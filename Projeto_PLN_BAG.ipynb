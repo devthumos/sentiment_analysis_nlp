{
  "nbformat": 4,
  "nbformat_minor": 0,
  "metadata": {
    "colab": {
      "provenance": [],
      "collapsed_sections": [],
      "authorship_tag": "ABX9TyMp+H3tmqQ+W1MgUP2nNNtn",
      "include_colab_link": true
    },
    "kernelspec": {
      "name": "python3",
      "display_name": "Python 3"
    },
    "language_info": {
      "name": "python"
    }
  },
  "cells": [
    {
      "cell_type": "markdown",
      "metadata": {
        "id": "view-in-github",
        "colab_type": "text"
      },
      "source": [
        "<a href=\"https://colab.research.google.com/github/devthumos/sentiment_analysis_nlp/blob/main/Projeto_PLN_BAG.ipynb\" target=\"_parent\"><img src=\"https://colab.research.google.com/assets/colab-badge.svg\" alt=\"Open In Colab\"/></a>"
      ]
    },
    {
      "cell_type": "code",
      "execution_count": null,
      "metadata": {
        "id": "eW_PqY03hApR",
        "colab": {
          "base_uri": "https://localhost:8080/"
        },
        "outputId": "32a7bcfa-c31a-4122-b90e-be849af270a9"
      },
      "outputs": [
        {
          "output_type": "stream",
          "name": "stdout",
          "text": [
            "Looking in indexes: https://pypi.org/simple, https://us-python.pkg.dev/colab-wheels/public/simple/\n",
            "Requirement already satisfied: nltk in /usr/local/lib/python3.7/dist-packages (3.7)\n",
            "Requirement already satisfied: regex>=2021.8.3 in /usr/local/lib/python3.7/dist-packages (from nltk) (2022.6.2)\n",
            "Requirement already satisfied: click in /usr/local/lib/python3.7/dist-packages (from nltk) (7.1.2)\n",
            "Requirement already satisfied: tqdm in /usr/local/lib/python3.7/dist-packages (from nltk) (4.64.1)\n",
            "Requirement already satisfied: joblib in /usr/local/lib/python3.7/dist-packages (from nltk) (1.1.0)\n",
            "Looking in indexes: https://pypi.org/simple, https://us-python.pkg.dev/colab-wheels/public/simple/\n",
            "Requirement already satisfied: keras in /usr/local/lib/python3.7/dist-packages (2.8.0)\n",
            "Looking in indexes: https://pypi.org/simple, https://us-python.pkg.dev/colab-wheels/public/simple/\n",
            "Requirement already satisfied: tensorflow in /usr/local/lib/python3.7/dist-packages (2.8.2+zzzcolab20220719082949)\n",
            "Requirement already satisfied: grpcio<2.0,>=1.24.3 in /usr/local/lib/python3.7/dist-packages (from tensorflow) (1.48.1)\n",
            "Requirement already satisfied: keras-preprocessing>=1.1.1 in /usr/local/lib/python3.7/dist-packages (from tensorflow) (1.1.2)\n",
            "Requirement already satisfied: tensorflow-estimator<2.9,>=2.8 in /usr/local/lib/python3.7/dist-packages (from tensorflow) (2.8.0)\n",
            "Requirement already satisfied: flatbuffers>=1.12 in /usr/local/lib/python3.7/dist-packages (from tensorflow) (2.0.7)\n",
            "Requirement already satisfied: google-pasta>=0.1.1 in /usr/local/lib/python3.7/dist-packages (from tensorflow) (0.2.0)\n",
            "Requirement already satisfied: opt-einsum>=2.3.2 in /usr/local/lib/python3.7/dist-packages (from tensorflow) (3.3.0)\n",
            "Requirement already satisfied: wrapt>=1.11.0 in /usr/local/lib/python3.7/dist-packages (from tensorflow) (1.14.1)\n",
            "Requirement already satisfied: numpy>=1.20 in /usr/local/lib/python3.7/dist-packages (from tensorflow) (1.21.6)\n",
            "Requirement already satisfied: absl-py>=0.4.0 in /usr/local/lib/python3.7/dist-packages (from tensorflow) (1.2.0)\n",
            "Requirement already satisfied: protobuf<3.20,>=3.9.2 in /usr/local/lib/python3.7/dist-packages (from tensorflow) (3.17.3)\n",
            "Requirement already satisfied: astunparse>=1.6.0 in /usr/local/lib/python3.7/dist-packages (from tensorflow) (1.6.3)\n",
            "Requirement already satisfied: six>=1.12.0 in /usr/local/lib/python3.7/dist-packages (from tensorflow) (1.15.0)\n",
            "Requirement already satisfied: gast>=0.2.1 in /usr/local/lib/python3.7/dist-packages (from tensorflow) (0.5.3)\n",
            "Requirement already satisfied: keras<2.9,>=2.8.0rc0 in /usr/local/lib/python3.7/dist-packages (from tensorflow) (2.8.0)\n",
            "Requirement already satisfied: tensorflow-io-gcs-filesystem>=0.23.1 in /usr/local/lib/python3.7/dist-packages (from tensorflow) (0.26.0)\n",
            "Requirement already satisfied: setuptools in /usr/local/lib/python3.7/dist-packages (from tensorflow) (57.4.0)\n",
            "Requirement already satisfied: libclang>=9.0.1 in /usr/local/lib/python3.7/dist-packages (from tensorflow) (14.0.6)\n",
            "Requirement already satisfied: h5py>=2.9.0 in /usr/local/lib/python3.7/dist-packages (from tensorflow) (3.1.0)\n",
            "Requirement already satisfied: typing-extensions>=3.6.6 in /usr/local/lib/python3.7/dist-packages (from tensorflow) (4.1.1)\n",
            "Requirement already satisfied: tensorboard<2.9,>=2.8 in /usr/local/lib/python3.7/dist-packages (from tensorflow) (2.8.0)\n",
            "Requirement already satisfied: termcolor>=1.1.0 in /usr/local/lib/python3.7/dist-packages (from tensorflow) (1.1.0)\n",
            "Requirement already satisfied: wheel<1.0,>=0.23.0 in /usr/local/lib/python3.7/dist-packages (from astunparse>=1.6.0->tensorflow) (0.37.1)\n",
            "Requirement already satisfied: cached-property in /usr/local/lib/python3.7/dist-packages (from h5py>=2.9.0->tensorflow) (1.5.2)\n",
            "Requirement already satisfied: tensorboard-plugin-wit>=1.6.0 in /usr/local/lib/python3.7/dist-packages (from tensorboard<2.9,>=2.8->tensorflow) (1.8.1)\n",
            "Requirement already satisfied: requests<3,>=2.21.0 in /usr/local/lib/python3.7/dist-packages (from tensorboard<2.9,>=2.8->tensorflow) (2.23.0)\n",
            "Requirement already satisfied: markdown>=2.6.8 in /usr/local/lib/python3.7/dist-packages (from tensorboard<2.9,>=2.8->tensorflow) (3.4.1)\n",
            "Requirement already satisfied: google-auth<3,>=1.6.3 in /usr/local/lib/python3.7/dist-packages (from tensorboard<2.9,>=2.8->tensorflow) (1.35.0)\n",
            "Requirement already satisfied: google-auth-oauthlib<0.5,>=0.4.1 in /usr/local/lib/python3.7/dist-packages (from tensorboard<2.9,>=2.8->tensorflow) (0.4.6)\n",
            "Requirement already satisfied: werkzeug>=0.11.15 in /usr/local/lib/python3.7/dist-packages (from tensorboard<2.9,>=2.8->tensorflow) (1.0.1)\n",
            "Requirement already satisfied: tensorboard-data-server<0.7.0,>=0.6.0 in /usr/local/lib/python3.7/dist-packages (from tensorboard<2.9,>=2.8->tensorflow) (0.6.1)\n",
            "Requirement already satisfied: pyasn1-modules>=0.2.1 in /usr/local/lib/python3.7/dist-packages (from google-auth<3,>=1.6.3->tensorboard<2.9,>=2.8->tensorflow) (0.2.8)\n",
            "Requirement already satisfied: cachetools<5.0,>=2.0.0 in /usr/local/lib/python3.7/dist-packages (from google-auth<3,>=1.6.3->tensorboard<2.9,>=2.8->tensorflow) (4.2.4)\n",
            "Requirement already satisfied: rsa<5,>=3.1.4 in /usr/local/lib/python3.7/dist-packages (from google-auth<3,>=1.6.3->tensorboard<2.9,>=2.8->tensorflow) (4.9)\n",
            "Requirement already satisfied: requests-oauthlib>=0.7.0 in /usr/local/lib/python3.7/dist-packages (from google-auth-oauthlib<0.5,>=0.4.1->tensorboard<2.9,>=2.8->tensorflow) (1.3.1)\n",
            "Requirement already satisfied: importlib-metadata>=4.4 in /usr/local/lib/python3.7/dist-packages (from markdown>=2.6.8->tensorboard<2.9,>=2.8->tensorflow) (4.12.0)\n",
            "Requirement already satisfied: zipp>=0.5 in /usr/local/lib/python3.7/dist-packages (from importlib-metadata>=4.4->markdown>=2.6.8->tensorboard<2.9,>=2.8->tensorflow) (3.8.1)\n",
            "Requirement already satisfied: pyasn1<0.5.0,>=0.4.6 in /usr/local/lib/python3.7/dist-packages (from pyasn1-modules>=0.2.1->google-auth<3,>=1.6.3->tensorboard<2.9,>=2.8->tensorflow) (0.4.8)\n",
            "Requirement already satisfied: urllib3!=1.25.0,!=1.25.1,<1.26,>=1.21.1 in /usr/local/lib/python3.7/dist-packages (from requests<3,>=2.21.0->tensorboard<2.9,>=2.8->tensorflow) (1.24.3)\n",
            "Requirement already satisfied: idna<3,>=2.5 in /usr/local/lib/python3.7/dist-packages (from requests<3,>=2.21.0->tensorboard<2.9,>=2.8->tensorflow) (2.10)\n",
            "Requirement already satisfied: chardet<4,>=3.0.2 in /usr/local/lib/python3.7/dist-packages (from requests<3,>=2.21.0->tensorboard<2.9,>=2.8->tensorflow) (3.0.4)\n",
            "Requirement already satisfied: certifi>=2017.4.17 in /usr/local/lib/python3.7/dist-packages (from requests<3,>=2.21.0->tensorboard<2.9,>=2.8->tensorflow) (2022.6.15)\n",
            "Requirement already satisfied: oauthlib>=3.0.0 in /usr/local/lib/python3.7/dist-packages (from requests-oauthlib>=0.7.0->google-auth-oauthlib<0.5,>=0.4.1->tensorboard<2.9,>=2.8->tensorflow) (3.2.0)\n"
          ]
        }
      ],
      "source": [
        "!pip install nltk\n",
        "!pip install keras\n",
        "!pip install tensorflow"
      ]
    },
    {
      "cell_type": "code",
      "execution_count": null,
      "metadata": {
        "id": "k11YTv1MvuJV"
      },
      "outputs": [],
      "source": [
        "import pandas as pd\n",
        "import numpy as np\n",
        "import re\n",
        "from keras.models import Sequential\n",
        "from keras.layers import Dense\n",
        "from sklearn.feature_extraction.text import TfidfVectorizer\n",
        "from tensorflow.keras.optimizers import SGD\n",
        "from keras.utils.np_utils import to_categorical\n",
        "import matplotlib.pyplot as plt\n",
        "import nltk\n",
        "from google.colab import drive\n",
        "from nltk.stem.wordnet import WordNetLemmatizer\n",
        "from sklearn.model_selection import train_test_split\n",
        "from keras.models import Sequential\n",
        "from keras.layers import Dense, Dropout\n",
        "from sklearn.feature_extraction.text import TfidfVectorizer, CountVectorizer\n",
        "from tensorflow.keras.regularizers import L1, L2\n",
        "from sklearn.metrics import confusion_matrix\n",
        "from sklearn.metrics import precision_score, recall_score, f1_score, accuracy_score\n",
        "from tensorflow.keras.initializers import RandomNormal"
      ]
    },
    {
      "cell_type": "code",
      "execution_count": null,
      "metadata": {
        "colab": {
          "base_uri": "https://localhost:8080/"
        },
        "id": "8DgYaSYvv2zX",
        "outputId": "eca60df5-7ab5-4d49-92b9-97c707fe7c73"
      },
      "outputs": [
        {
          "output_type": "stream",
          "name": "stdout",
          "text": [
            "Mounted at /content/gdrive\n"
          ]
        }
      ],
      "source": [
        "drive.mount(\"/content/gdrive\", force_remount=True)"
      ]
    },
    {
      "cell_type": "code",
      "execution_count": null,
      "metadata": {
        "colab": {
          "base_uri": "https://localhost:8080/"
        },
        "id": "3sqa3230hqOR",
        "outputId": "5625c858-89c3-4b02-dda7-74795feed6cc"
      },
      "outputs": [
        {
          "output_type": "stream",
          "name": "stderr",
          "text": [
            "[nltk_data] Downloading package stopwords to /root/nltk_data...\n",
            "[nltk_data]   Package stopwords is already up-to-date!\n",
            "[nltk_data] Downloading package wordnet to /root/nltk_data...\n",
            "[nltk_data]   Package wordnet is already up-to-date!\n",
            "[nltk_data] Downloading package omw-1.4 to /root/nltk_data...\n",
            "[nltk_data]   Package omw-1.4 is already up-to-date!\n"
          ]
        },
        {
          "output_type": "execute_result",
          "data": {
            "text/plain": [
              "True"
            ]
          },
          "metadata": {},
          "execution_count": 4
        }
      ],
      "source": [
        "nltk.download(\"stopwords\")\n",
        "nltk.download('wordnet')\n",
        "nltk.download('omw-1.4')"
      ]
    },
    {
      "cell_type": "markdown",
      "metadata": {
        "id": "_IbMPftNv9jK"
      },
      "source": [
        "dataset from <a href=\"https://www.kaggle.com/datasets/kazanova/sentiment140\">KAGGLE</a>\n",
        "\n",
        "- target: the polarity of the tweet (0 = negative, 2 = neutral, 4 = positive)\n",
        "- ids: The id of the tweet ( 2087)\n",
        "- date: the date of the tweet (Sat May 16 23:58:44 UTC 2009)\n",
        "- flag: The query (lyx). If there is no query, then this value is NO_QUERY.\n",
        "- user: the user that tweeted (robotickilldozr)\n",
        "- text: the text of the tweet (Lyx is cool)"
      ]
    },
    {
      "cell_type": "code",
      "execution_count": null,
      "metadata": {
        "colab": {
          "base_uri": "https://localhost:8080/",
          "height": 206
        },
        "id": "igI85UETwJFX",
        "outputId": "3bb553c9-4840-45f5-e82c-e2f0f175ce01"
      },
      "outputs": [
        {
          "output_type": "execute_result",
          "data": {
            "text/plain": [
              "   target         ids                          date     flags  \\\n",
              "0       0  1467810369  Mon Apr 06 22:19:45 PDT 2009  NO_QUERY   \n",
              "1       0  1467810672  Mon Apr 06 22:19:49 PDT 2009  NO_QUERY   \n",
              "2       0  1467810917  Mon Apr 06 22:19:53 PDT 2009  NO_QUERY   \n",
              "3       0  1467811184  Mon Apr 06 22:19:57 PDT 2009  NO_QUERY   \n",
              "4       0  1467811193  Mon Apr 06 22:19:57 PDT 2009  NO_QUERY   \n",
              "\n",
              "              user                                               text  \n",
              "0  _TheSpecialOne_  @switchfoot http://twitpic.com/2y1zl - Awww, t...  \n",
              "1    scotthamilton  is upset that he can't update his Facebook by ...  \n",
              "2         mattycus  @Kenichan I dived many times for the ball. Man...  \n",
              "3          ElleCTF    my whole body feels itchy and like its on fire   \n",
              "4           Karoli  @nationwideclass no, it's not behaving at all....  "
            ],
            "text/html": [
              "\n",
              "  <div id=\"df-c080b8fa-8c32-4fa2-9494-ecc80a927dc6\">\n",
              "    <div class=\"colab-df-container\">\n",
              "      <div>\n",
              "<style scoped>\n",
              "    .dataframe tbody tr th:only-of-type {\n",
              "        vertical-align: middle;\n",
              "    }\n",
              "\n",
              "    .dataframe tbody tr th {\n",
              "        vertical-align: top;\n",
              "    }\n",
              "\n",
              "    .dataframe thead th {\n",
              "        text-align: right;\n",
              "    }\n",
              "</style>\n",
              "<table border=\"1\" class=\"dataframe\">\n",
              "  <thead>\n",
              "    <tr style=\"text-align: right;\">\n",
              "      <th></th>\n",
              "      <th>target</th>\n",
              "      <th>ids</th>\n",
              "      <th>date</th>\n",
              "      <th>flags</th>\n",
              "      <th>user</th>\n",
              "      <th>text</th>\n",
              "    </tr>\n",
              "  </thead>\n",
              "  <tbody>\n",
              "    <tr>\n",
              "      <th>0</th>\n",
              "      <td>0</td>\n",
              "      <td>1467810369</td>\n",
              "      <td>Mon Apr 06 22:19:45 PDT 2009</td>\n",
              "      <td>NO_QUERY</td>\n",
              "      <td>_TheSpecialOne_</td>\n",
              "      <td>@switchfoot http://twitpic.com/2y1zl - Awww, t...</td>\n",
              "    </tr>\n",
              "    <tr>\n",
              "      <th>1</th>\n",
              "      <td>0</td>\n",
              "      <td>1467810672</td>\n",
              "      <td>Mon Apr 06 22:19:49 PDT 2009</td>\n",
              "      <td>NO_QUERY</td>\n",
              "      <td>scotthamilton</td>\n",
              "      <td>is upset that he can't update his Facebook by ...</td>\n",
              "    </tr>\n",
              "    <tr>\n",
              "      <th>2</th>\n",
              "      <td>0</td>\n",
              "      <td>1467810917</td>\n",
              "      <td>Mon Apr 06 22:19:53 PDT 2009</td>\n",
              "      <td>NO_QUERY</td>\n",
              "      <td>mattycus</td>\n",
              "      <td>@Kenichan I dived many times for the ball. Man...</td>\n",
              "    </tr>\n",
              "    <tr>\n",
              "      <th>3</th>\n",
              "      <td>0</td>\n",
              "      <td>1467811184</td>\n",
              "      <td>Mon Apr 06 22:19:57 PDT 2009</td>\n",
              "      <td>NO_QUERY</td>\n",
              "      <td>ElleCTF</td>\n",
              "      <td>my whole body feels itchy and like its on fire</td>\n",
              "    </tr>\n",
              "    <tr>\n",
              "      <th>4</th>\n",
              "      <td>0</td>\n",
              "      <td>1467811193</td>\n",
              "      <td>Mon Apr 06 22:19:57 PDT 2009</td>\n",
              "      <td>NO_QUERY</td>\n",
              "      <td>Karoli</td>\n",
              "      <td>@nationwideclass no, it's not behaving at all....</td>\n",
              "    </tr>\n",
              "  </tbody>\n",
              "</table>\n",
              "</div>\n",
              "      <button class=\"colab-df-convert\" onclick=\"convertToInteractive('df-c080b8fa-8c32-4fa2-9494-ecc80a927dc6')\"\n",
              "              title=\"Convert this dataframe to an interactive table.\"\n",
              "              style=\"display:none;\">\n",
              "        \n",
              "  <svg xmlns=\"http://www.w3.org/2000/svg\" height=\"24px\"viewBox=\"0 0 24 24\"\n",
              "       width=\"24px\">\n",
              "    <path d=\"M0 0h24v24H0V0z\" fill=\"none\"/>\n",
              "    <path d=\"M18.56 5.44l.94 2.06.94-2.06 2.06-.94-2.06-.94-.94-2.06-.94 2.06-2.06.94zm-11 1L8.5 8.5l.94-2.06 2.06-.94-2.06-.94L8.5 2.5l-.94 2.06-2.06.94zm10 10l.94 2.06.94-2.06 2.06-.94-2.06-.94-.94-2.06-.94 2.06-2.06.94z\"/><path d=\"M17.41 7.96l-1.37-1.37c-.4-.4-.92-.59-1.43-.59-.52 0-1.04.2-1.43.59L10.3 9.45l-7.72 7.72c-.78.78-.78 2.05 0 2.83L4 21.41c.39.39.9.59 1.41.59.51 0 1.02-.2 1.41-.59l7.78-7.78 2.81-2.81c.8-.78.8-2.07 0-2.86zM5.41 20L4 18.59l7.72-7.72 1.47 1.35L5.41 20z\"/>\n",
              "  </svg>\n",
              "      </button>\n",
              "      \n",
              "  <style>\n",
              "    .colab-df-container {\n",
              "      display:flex;\n",
              "      flex-wrap:wrap;\n",
              "      gap: 12px;\n",
              "    }\n",
              "\n",
              "    .colab-df-convert {\n",
              "      background-color: #E8F0FE;\n",
              "      border: none;\n",
              "      border-radius: 50%;\n",
              "      cursor: pointer;\n",
              "      display: none;\n",
              "      fill: #1967D2;\n",
              "      height: 32px;\n",
              "      padding: 0 0 0 0;\n",
              "      width: 32px;\n",
              "    }\n",
              "\n",
              "    .colab-df-convert:hover {\n",
              "      background-color: #E2EBFA;\n",
              "      box-shadow: 0px 1px 2px rgba(60, 64, 67, 0.3), 0px 1px 3px 1px rgba(60, 64, 67, 0.15);\n",
              "      fill: #174EA6;\n",
              "    }\n",
              "\n",
              "    [theme=dark] .colab-df-convert {\n",
              "      background-color: #3B4455;\n",
              "      fill: #D2E3FC;\n",
              "    }\n",
              "\n",
              "    [theme=dark] .colab-df-convert:hover {\n",
              "      background-color: #434B5C;\n",
              "      box-shadow: 0px 1px 3px 1px rgba(0, 0, 0, 0.15);\n",
              "      filter: drop-shadow(0px 1px 2px rgba(0, 0, 0, 0.3));\n",
              "      fill: #FFFFFF;\n",
              "    }\n",
              "  </style>\n",
              "\n",
              "      <script>\n",
              "        const buttonEl =\n",
              "          document.querySelector('#df-c080b8fa-8c32-4fa2-9494-ecc80a927dc6 button.colab-df-convert');\n",
              "        buttonEl.style.display =\n",
              "          google.colab.kernel.accessAllowed ? 'block' : 'none';\n",
              "\n",
              "        async function convertToInteractive(key) {\n",
              "          const element = document.querySelector('#df-c080b8fa-8c32-4fa2-9494-ecc80a927dc6');\n",
              "          const dataTable =\n",
              "            await google.colab.kernel.invokeFunction('convertToInteractive',\n",
              "                                                     [key], {});\n",
              "          if (!dataTable) return;\n",
              "\n",
              "          const docLinkHtml = 'Like what you see? Visit the ' +\n",
              "            '<a target=\"_blank\" href=https://colab.research.google.com/notebooks/data_table.ipynb>data table notebook</a>'\n",
              "            + ' to learn more about interactive tables.';\n",
              "          element.innerHTML = '';\n",
              "          dataTable['output_type'] = 'display_data';\n",
              "          await google.colab.output.renderOutput(dataTable, element);\n",
              "          const docLink = document.createElement('div');\n",
              "          docLink.innerHTML = docLinkHtml;\n",
              "          element.appendChild(docLink);\n",
              "        }\n",
              "      </script>\n",
              "    </div>\n",
              "  </div>\n",
              "  "
            ]
          },
          "metadata": {},
          "execution_count": 5
        }
      ],
      "source": [
        "path_file = \"/content/gdrive/MyDrive/training.1600000.processed.noemoticon.csv\"\n",
        "dataset = pd.read_csv(path_file, encoding=\"latin-1\", names=[\"target\", \"ids\", \"date\", \"flags\", \"user\", \"text\"])\n",
        "dataset.head()"
      ]
    },
    {
      "cell_type": "code",
      "execution_count": null,
      "metadata": {
        "colab": {
          "base_uri": "https://localhost:8080/"
        },
        "id": "nx3hgZVCylAI",
        "outputId": "7737b32e-a6c1-459e-a843-52f3d432a3f2"
      },
      "outputs": [
        {
          "output_type": "stream",
          "name": "stdout",
          "text": [
            "<class 'pandas.core.frame.DataFrame'>\n",
            "RangeIndex: 1600000 entries, 0 to 1599999\n",
            "Data columns (total 6 columns):\n",
            " #   Column  Non-Null Count    Dtype \n",
            "---  ------  --------------    ----- \n",
            " 0   target  1600000 non-null  int64 \n",
            " 1   ids     1600000 non-null  int64 \n",
            " 2   date    1600000 non-null  object\n",
            " 3   flags   1600000 non-null  object\n",
            " 4   user    1600000 non-null  object\n",
            " 5   text    1600000 non-null  object\n",
            "dtypes: int64(2), object(4)\n",
            "memory usage: 73.2+ MB\n"
          ]
        }
      ],
      "source": [
        "dataset.info()"
      ]
    },
    {
      "cell_type": "code",
      "execution_count": null,
      "metadata": {
        "colab": {
          "base_uri": "https://localhost:8080/"
        },
        "id": "qzNG6Ltkoi5j",
        "outputId": "a0db380a-e5ab-458b-c429-ee2773e55200"
      },
      "outputs": [
        {
          "output_type": "execute_result",
          "data": {
            "text/plain": [
              "array([0, 4])"
            ]
          },
          "metadata": {},
          "execution_count": 7
        }
      ],
      "source": [
        "dataset.target.unique()"
      ]
    },
    {
      "cell_type": "code",
      "execution_count": null,
      "metadata": {
        "id": "a2pArvjJoYnF"
      },
      "outputs": [],
      "source": [
        "dataset_negative = dataset[dataset.target == 0]\n",
        "dataset_positive = dataset[dataset.target == 4]"
      ]
    },
    {
      "cell_type": "code",
      "execution_count": null,
      "metadata": {
        "colab": {
          "base_uri": "https://localhost:8080/"
        },
        "id": "Hmw771iBqgCT",
        "outputId": "bcaabc43-5b73-42a5-9c2c-05ab56dccb24"
      },
      "outputs": [
        {
          "output_type": "stream",
          "name": "stdout",
          "text": [
            "800000\n",
            "800000\n"
          ]
        }
      ],
      "source": [
        "print(dataset_negative.target.count())\n",
        "print(dataset_positive.target.count())"
      ]
    },
    {
      "cell_type": "code",
      "execution_count": null,
      "metadata": {
        "colab": {
          "base_uri": "https://localhost:8080/",
          "height": 206
        },
        "id": "ur3IhIUcppgl",
        "outputId": "8c15c29a-ce68-48c8-cb5e-ed08b82c65b1"
      },
      "outputs": [
        {
          "output_type": "execute_result",
          "data": {
            "text/plain": [
              "   target                                               text\n",
              "0       0  @switchfoot http://twitpic.com/2y1zl - Awww, t...\n",
              "1       0  is upset that he can't update his Facebook by ...\n",
              "2       0  @Kenichan I dived many times for the ball. Man...\n",
              "3       0    my whole body feels itchy and like its on fire \n",
              "4       0  @nationwideclass no, it's not behaving at all...."
            ],
            "text/html": [
              "\n",
              "  <div id=\"df-7ec6bf23-afba-4136-8cb1-fbbea83a1590\">\n",
              "    <div class=\"colab-df-container\">\n",
              "      <div>\n",
              "<style scoped>\n",
              "    .dataframe tbody tr th:only-of-type {\n",
              "        vertical-align: middle;\n",
              "    }\n",
              "\n",
              "    .dataframe tbody tr th {\n",
              "        vertical-align: top;\n",
              "    }\n",
              "\n",
              "    .dataframe thead th {\n",
              "        text-align: right;\n",
              "    }\n",
              "</style>\n",
              "<table border=\"1\" class=\"dataframe\">\n",
              "  <thead>\n",
              "    <tr style=\"text-align: right;\">\n",
              "      <th></th>\n",
              "      <th>target</th>\n",
              "      <th>text</th>\n",
              "    </tr>\n",
              "  </thead>\n",
              "  <tbody>\n",
              "    <tr>\n",
              "      <th>0</th>\n",
              "      <td>0</td>\n",
              "      <td>@switchfoot http://twitpic.com/2y1zl - Awww, t...</td>\n",
              "    </tr>\n",
              "    <tr>\n",
              "      <th>1</th>\n",
              "      <td>0</td>\n",
              "      <td>is upset that he can't update his Facebook by ...</td>\n",
              "    </tr>\n",
              "    <tr>\n",
              "      <th>2</th>\n",
              "      <td>0</td>\n",
              "      <td>@Kenichan I dived many times for the ball. Man...</td>\n",
              "    </tr>\n",
              "    <tr>\n",
              "      <th>3</th>\n",
              "      <td>0</td>\n",
              "      <td>my whole body feels itchy and like its on fire</td>\n",
              "    </tr>\n",
              "    <tr>\n",
              "      <th>4</th>\n",
              "      <td>0</td>\n",
              "      <td>@nationwideclass no, it's not behaving at all....</td>\n",
              "    </tr>\n",
              "  </tbody>\n",
              "</table>\n",
              "</div>\n",
              "      <button class=\"colab-df-convert\" onclick=\"convertToInteractive('df-7ec6bf23-afba-4136-8cb1-fbbea83a1590')\"\n",
              "              title=\"Convert this dataframe to an interactive table.\"\n",
              "              style=\"display:none;\">\n",
              "        \n",
              "  <svg xmlns=\"http://www.w3.org/2000/svg\" height=\"24px\"viewBox=\"0 0 24 24\"\n",
              "       width=\"24px\">\n",
              "    <path d=\"M0 0h24v24H0V0z\" fill=\"none\"/>\n",
              "    <path d=\"M18.56 5.44l.94 2.06.94-2.06 2.06-.94-2.06-.94-.94-2.06-.94 2.06-2.06.94zm-11 1L8.5 8.5l.94-2.06 2.06-.94-2.06-.94L8.5 2.5l-.94 2.06-2.06.94zm10 10l.94 2.06.94-2.06 2.06-.94-2.06-.94-.94-2.06-.94 2.06-2.06.94z\"/><path d=\"M17.41 7.96l-1.37-1.37c-.4-.4-.92-.59-1.43-.59-.52 0-1.04.2-1.43.59L10.3 9.45l-7.72 7.72c-.78.78-.78 2.05 0 2.83L4 21.41c.39.39.9.59 1.41.59.51 0 1.02-.2 1.41-.59l7.78-7.78 2.81-2.81c.8-.78.8-2.07 0-2.86zM5.41 20L4 18.59l7.72-7.72 1.47 1.35L5.41 20z\"/>\n",
              "  </svg>\n",
              "      </button>\n",
              "      \n",
              "  <style>\n",
              "    .colab-df-container {\n",
              "      display:flex;\n",
              "      flex-wrap:wrap;\n",
              "      gap: 12px;\n",
              "    }\n",
              "\n",
              "    .colab-df-convert {\n",
              "      background-color: #E8F0FE;\n",
              "      border: none;\n",
              "      border-radius: 50%;\n",
              "      cursor: pointer;\n",
              "      display: none;\n",
              "      fill: #1967D2;\n",
              "      height: 32px;\n",
              "      padding: 0 0 0 0;\n",
              "      width: 32px;\n",
              "    }\n",
              "\n",
              "    .colab-df-convert:hover {\n",
              "      background-color: #E2EBFA;\n",
              "      box-shadow: 0px 1px 2px rgba(60, 64, 67, 0.3), 0px 1px 3px 1px rgba(60, 64, 67, 0.15);\n",
              "      fill: #174EA6;\n",
              "    }\n",
              "\n",
              "    [theme=dark] .colab-df-convert {\n",
              "      background-color: #3B4455;\n",
              "      fill: #D2E3FC;\n",
              "    }\n",
              "\n",
              "    [theme=dark] .colab-df-convert:hover {\n",
              "      background-color: #434B5C;\n",
              "      box-shadow: 0px 1px 3px 1px rgba(0, 0, 0, 0.15);\n",
              "      filter: drop-shadow(0px 1px 2px rgba(0, 0, 0, 0.3));\n",
              "      fill: #FFFFFF;\n",
              "    }\n",
              "  </style>\n",
              "\n",
              "      <script>\n",
              "        const buttonEl =\n",
              "          document.querySelector('#df-7ec6bf23-afba-4136-8cb1-fbbea83a1590 button.colab-df-convert');\n",
              "        buttonEl.style.display =\n",
              "          google.colab.kernel.accessAllowed ? 'block' : 'none';\n",
              "\n",
              "        async function convertToInteractive(key) {\n",
              "          const element = document.querySelector('#df-7ec6bf23-afba-4136-8cb1-fbbea83a1590');\n",
              "          const dataTable =\n",
              "            await google.colab.kernel.invokeFunction('convertToInteractive',\n",
              "                                                     [key], {});\n",
              "          if (!dataTable) return;\n",
              "\n",
              "          const docLinkHtml = 'Like what you see? Visit the ' +\n",
              "            '<a target=\"_blank\" href=https://colab.research.google.com/notebooks/data_table.ipynb>data table notebook</a>'\n",
              "            + ' to learn more about interactive tables.';\n",
              "          element.innerHTML = '';\n",
              "          dataTable['output_type'] = 'display_data';\n",
              "          await google.colab.output.renderOutput(dataTable, element);\n",
              "          const docLink = document.createElement('div');\n",
              "          docLink.innerHTML = docLinkHtml;\n",
              "          element.appendChild(docLink);\n",
              "        }\n",
              "      </script>\n",
              "    </div>\n",
              "  </div>\n",
              "  "
            ]
          },
          "metadata": {},
          "execution_count": 10
        }
      ],
      "source": [
        "sample_negative = dataset_negative.iloc[0:15_000, :]\n",
        "sample_positive = dataset_positive.iloc[0:15_000, :]\n",
        "sample = pd.concat([sample_negative, sample_positive])\n",
        "sample = sample.drop([\"date\", \"user\", \"flags\", \"ids\"], axis=1)\n",
        "sample.head()"
      ]
    },
    {
      "cell_type": "code",
      "execution_count": null,
      "metadata": {
        "colab": {
          "base_uri": "https://localhost:8080/"
        },
        "id": "4afMLo9WqbUV",
        "outputId": "83869563-96c7-41dd-f473-568734146315"
      },
      "outputs": [
        {
          "output_type": "stream",
          "name": "stdout",
          "text": [
            "<class 'pandas.core.frame.DataFrame'>\n",
            "Int64Index: 30000 entries, 0 to 814999\n",
            "Data columns (total 2 columns):\n",
            " #   Column  Non-Null Count  Dtype \n",
            "---  ------  --------------  ----- \n",
            " 0   target  30000 non-null  int64 \n",
            " 1   text    30000 non-null  object\n",
            "dtypes: int64(1), object(1)\n",
            "memory usage: 703.1+ KB\n"
          ]
        }
      ],
      "source": [
        "sample.info()"
      ]
    },
    {
      "cell_type": "markdown",
      "metadata": {
        "id": "hyF7nOxzctDH"
      },
      "source": [
        "A lista de emoticons utilizados foi inspirada na lista de emoticons do <a href=\"https://en.wikipedia.org/wiki/List_of_emoticons\">wikipedia</a>"
      ]
    },
    {
      "cell_type": "code",
      "execution_count": null,
      "metadata": {
        "id": "1SteLQOozNII"
      },
      "outputs": [],
      "source": [
        "vocabulary = []\n",
        "\n",
        "def normalize(sentence: str) -> str:\n",
        "  rt_pattern = r\"^(rt:){1}\"  ## To find the RT's\n",
        "  reply_pattern = r\"^@[^\\s|:]+\" ## To find reply\n",
        "  link_pattern = r\"(?:(?:http)|(?:https)|(?:ftp)):?/?/[^\\s]+\"  ## To find links\n",
        "  user_pattern = r\"@[^\\s|:]+\" # Achar os User's\n",
        "  repeated_vowels_pattern = r\"(([a-z]{1})\\2)\\2*\"\n",
        "  laugth_pattern = r\"(h[aei]){2,}\"\n",
        "  special_pattern = r\"[!\\$@#,\\.'\\\"’\\)\\(\\s&\\*\\-\\?~\\{\\}\\[\\]%;\\/]\"\n",
        "  is_pattern = r\"([a-z]{2,})\\'s\"\n",
        "  not_pattern = r\"([a-z]{2,})n\\'t\"\n",
        "  ve_pattern = r\"([a-z]{1,})\\'ve\"\n",
        "\n",
        "  pattern3 = r\"\\\\u[0-9]{2,4}\"  # Substituir as falhas no encoding\n",
        "  \n",
        "  simple = re.sub(rt_pattern, r\"\", sentence.lower())\n",
        "  simple = re.sub(reply_pattern, r\"\", simple)\n",
        "  simple = re.sub(link_pattern, r\" \", simple)\n",
        "  simple = re.sub(user_pattern, r\" \", simple)\n",
        "  simple = re.sub(is_pattern, r\"\\1 is\", simple)\n",
        "  simple = re.sub(not_pattern, r\"\\1 not\", simple)\n",
        "  simple = re.sub(ve_pattern, r\"\\1 have\", simple)\n",
        "  simple = re.sub(repeated_vowels_pattern, r\"\\1\", simple)\n",
        "  simple = re.sub(laugth_pattern, r\"laugth\", simple)\n",
        "\n",
        "  simple = normalize_emoji(simple)\n",
        "  \n",
        "  \n",
        "  simple = re.sub(pattern3, \"\", simple, flags=re.I)\n",
        "\n",
        "  simple = re.sub(special_pattern, \" \", simple)\n",
        "  simple = simple.strip()\n",
        "  return simple\n",
        "\n",
        "def normalize_emoji(sentence: str) -> str:\n",
        "  happy_pattern = r\"(:\\‑\\))|(:\\))|(:\\-\\])|(:\\])|(:\\->)|(:>)|(8\\-\\))|(8\\))|(:\\-})|(:})|(:o\\))|(:c\\))|(:\\^\\))|(=\\])|(=\\))|(:\\-\\))|(:\\-3)|(:3)|(=3)|(x3)|(x3)|(>:3)|(:\\‑p)|(:p)|(x\\‑p)|(xp)|(x\\‑p)|(xp)|(:\\‑p)|(:p)|(:\\‑þ)|(:þ)|(:\\‑þ)|(:þ)|(:\\‑b)|(:b)|(d:)|(=p)|(>:p)\"\n",
        "  laughing_pattern = r\"(:\\‑d)|(:d)|(8\\‑d)|(8d)|(=d)|(=3)|(b\\^d)|(c:)|(c:)|(x\\‑d)|(xd)|(x\\‑d)|(xd)\"\n",
        "  sad_pattern = r\"(:\\‑\\()|(:\\()|(:\\‑c)|(:c)|(:\\‑<)|(:<)|(:\\‑\\[)|(:\\[)|(:\\-\\|\\|)|(:\\{)|(:@)|(:\\()|(;\\()|(:\\'\\‑\\()|(:\\'\\()|(:=\\()\"\n",
        "  horror_pattern = r\"(d\\‑\\':)|(d:<)|(d:)|(d8)|(d;)|(d=)|(dx)\"\n",
        "  surprise_pattern = r\"(:\\‑o)|(:o)|(:\\‑o)|(:o)|(:\\-0)|(8\\‑0)|(>:o)|(=o)|(=o)|(=0)|(o_o)|(o_o)|(o\\-o)|(o\\‑o)|(o_o)|(o_o)\"\n",
        "  kiss_pattern = r\"(:\\-\\*)|(:\\*)|(:\\×)\"\n",
        "  mirk_pattern = r\"(;\\‑\\))|(\\;\\))|(\\*\\-\\))|(\\*\\))|(;\\‑\\])|(;\\])|(;\\^\\))|(;>)|(:\\‑,)|(;d)|(;3)\"\n",
        "  annoyed_pattern = r\"(:\\-\\/)|(:\\/)|(:\\‑\\.)|(>:\\\\)|(>:\\/)|(:\\\\)|(=\\/)|(=\\\\)|(:l)|(=l)|(:s)|(:\\‑\\|)|(:\\|)|(>\\.<)|(>_<)\"\n",
        "  heart_pattern = r\"(<3)\"\n",
        "  salute_pattern = r\"(o7)\"\n",
        "  cheer_pattern = r\"(\\\\o\\/)\"\n",
        "\n",
        "  simple = re.sub(happy_pattern , \" happy \", sentence)\n",
        "  simple = re.sub(laughing_pattern , \" laugh \", simple)\n",
        "  simple = re.sub(sad_pattern , \" sad \", simple)\n",
        "  simple = re.sub(horror_pattern , \" horror \", simple)\n",
        "  simple = re.sub(surprise_pattern , \" surprise \", simple)\n",
        "  simple = re.sub(kiss_pattern , \" kiss \", simple)\n",
        "  simple = re.sub(mirk_pattern , \" mirk \", simple)\n",
        "  simple = re.sub(annoyed_pattern , \" annoyed \", simple)\n",
        "  simple = re.sub(heart_pattern , \" heart \", simple)\n",
        "  simple = re.sub(salute_pattern , \" salute \", simple)\n",
        "  simple = re.sub(cheer_pattern , \" cheer \", simple)\n",
        "\n",
        "  return simple\n",
        "\n",
        "def tokenize(sentence: str) -> str:\n",
        "  global vocabulary\n",
        "\n",
        "  sentence = re.split(\"\\s+\", sentence)\n",
        "  vocabulary.extend(sentence)\n",
        "  return sentence\n"
      ]
    },
    {
      "cell_type": "code",
      "execution_count": null,
      "metadata": {
        "colab": {
          "base_uri": "https://localhost:8080/",
          "height": 206
        },
        "id": "3yyub3Y56ul7",
        "outputId": "0f963577-9001-4e88-8aed-b8cc3aaeeb37"
      },
      "outputs": [
        {
          "output_type": "execute_result",
          "data": {
            "text/plain": [
              "   target                                               text  \\\n",
              "0       0  @switchfoot http://twitpic.com/2y1zl - Awww, t...   \n",
              "1       0  is upset that he can't update his Facebook by ...   \n",
              "2       0  @Kenichan I dived many times for the ball. Man...   \n",
              "3       0    my whole body feels itchy and like its on fire    \n",
              "4       0  @nationwideclass no, it's not behaving at all....   \n",
              "\n",
              "                                     normalized_text  \\\n",
              "0  aww  that is a bummer   you shoulda got david ...   \n",
              "1  is upset that he ca not update his facebook by...   \n",
              "2  i dived many times for the ball  managed to sa...   \n",
              "3     my whole body feels itchy and like its on fire   \n",
              "4  no  it is not behaving at all  i m mad  why am...   \n",
              "\n",
              "                                      tokenized_text  \n",
              "0  [aww, that, is, a, bummer, you, shoulda, got, ...  \n",
              "1  [is, upset, that, he, ca, not, update, his, fa...  \n",
              "2  [i, dived, many, times, for, the, ball, manage...  \n",
              "3  [my, whole, body, feels, itchy, and, like, its...  \n",
              "4  [no, it, is, not, behaving, at, all, i, m, mad...  "
            ],
            "text/html": [
              "\n",
              "  <div id=\"df-948405b5-96f0-4a67-afb0-1a2a364a4e6c\">\n",
              "    <div class=\"colab-df-container\">\n",
              "      <div>\n",
              "<style scoped>\n",
              "    .dataframe tbody tr th:only-of-type {\n",
              "        vertical-align: middle;\n",
              "    }\n",
              "\n",
              "    .dataframe tbody tr th {\n",
              "        vertical-align: top;\n",
              "    }\n",
              "\n",
              "    .dataframe thead th {\n",
              "        text-align: right;\n",
              "    }\n",
              "</style>\n",
              "<table border=\"1\" class=\"dataframe\">\n",
              "  <thead>\n",
              "    <tr style=\"text-align: right;\">\n",
              "      <th></th>\n",
              "      <th>target</th>\n",
              "      <th>text</th>\n",
              "      <th>normalized_text</th>\n",
              "      <th>tokenized_text</th>\n",
              "    </tr>\n",
              "  </thead>\n",
              "  <tbody>\n",
              "    <tr>\n",
              "      <th>0</th>\n",
              "      <td>0</td>\n",
              "      <td>@switchfoot http://twitpic.com/2y1zl - Awww, t...</td>\n",
              "      <td>aww  that is a bummer   you shoulda got david ...</td>\n",
              "      <td>[aww, that, is, a, bummer, you, shoulda, got, ...</td>\n",
              "    </tr>\n",
              "    <tr>\n",
              "      <th>1</th>\n",
              "      <td>0</td>\n",
              "      <td>is upset that he can't update his Facebook by ...</td>\n",
              "      <td>is upset that he ca not update his facebook by...</td>\n",
              "      <td>[is, upset, that, he, ca, not, update, his, fa...</td>\n",
              "    </tr>\n",
              "    <tr>\n",
              "      <th>2</th>\n",
              "      <td>0</td>\n",
              "      <td>@Kenichan I dived many times for the ball. Man...</td>\n",
              "      <td>i dived many times for the ball  managed to sa...</td>\n",
              "      <td>[i, dived, many, times, for, the, ball, manage...</td>\n",
              "    </tr>\n",
              "    <tr>\n",
              "      <th>3</th>\n",
              "      <td>0</td>\n",
              "      <td>my whole body feels itchy and like its on fire</td>\n",
              "      <td>my whole body feels itchy and like its on fire</td>\n",
              "      <td>[my, whole, body, feels, itchy, and, like, its...</td>\n",
              "    </tr>\n",
              "    <tr>\n",
              "      <th>4</th>\n",
              "      <td>0</td>\n",
              "      <td>@nationwideclass no, it's not behaving at all....</td>\n",
              "      <td>no  it is not behaving at all  i m mad  why am...</td>\n",
              "      <td>[no, it, is, not, behaving, at, all, i, m, mad...</td>\n",
              "    </tr>\n",
              "  </tbody>\n",
              "</table>\n",
              "</div>\n",
              "      <button class=\"colab-df-convert\" onclick=\"convertToInteractive('df-948405b5-96f0-4a67-afb0-1a2a364a4e6c')\"\n",
              "              title=\"Convert this dataframe to an interactive table.\"\n",
              "              style=\"display:none;\">\n",
              "        \n",
              "  <svg xmlns=\"http://www.w3.org/2000/svg\" height=\"24px\"viewBox=\"0 0 24 24\"\n",
              "       width=\"24px\">\n",
              "    <path d=\"M0 0h24v24H0V0z\" fill=\"none\"/>\n",
              "    <path d=\"M18.56 5.44l.94 2.06.94-2.06 2.06-.94-2.06-.94-.94-2.06-.94 2.06-2.06.94zm-11 1L8.5 8.5l.94-2.06 2.06-.94-2.06-.94L8.5 2.5l-.94 2.06-2.06.94zm10 10l.94 2.06.94-2.06 2.06-.94-2.06-.94-.94-2.06-.94 2.06-2.06.94z\"/><path d=\"M17.41 7.96l-1.37-1.37c-.4-.4-.92-.59-1.43-.59-.52 0-1.04.2-1.43.59L10.3 9.45l-7.72 7.72c-.78.78-.78 2.05 0 2.83L4 21.41c.39.39.9.59 1.41.59.51 0 1.02-.2 1.41-.59l7.78-7.78 2.81-2.81c.8-.78.8-2.07 0-2.86zM5.41 20L4 18.59l7.72-7.72 1.47 1.35L5.41 20z\"/>\n",
              "  </svg>\n",
              "      </button>\n",
              "      \n",
              "  <style>\n",
              "    .colab-df-container {\n",
              "      display:flex;\n",
              "      flex-wrap:wrap;\n",
              "      gap: 12px;\n",
              "    }\n",
              "\n",
              "    .colab-df-convert {\n",
              "      background-color: #E8F0FE;\n",
              "      border: none;\n",
              "      border-radius: 50%;\n",
              "      cursor: pointer;\n",
              "      display: none;\n",
              "      fill: #1967D2;\n",
              "      height: 32px;\n",
              "      padding: 0 0 0 0;\n",
              "      width: 32px;\n",
              "    }\n",
              "\n",
              "    .colab-df-convert:hover {\n",
              "      background-color: #E2EBFA;\n",
              "      box-shadow: 0px 1px 2px rgba(60, 64, 67, 0.3), 0px 1px 3px 1px rgba(60, 64, 67, 0.15);\n",
              "      fill: #174EA6;\n",
              "    }\n",
              "\n",
              "    [theme=dark] .colab-df-convert {\n",
              "      background-color: #3B4455;\n",
              "      fill: #D2E3FC;\n",
              "    }\n",
              "\n",
              "    [theme=dark] .colab-df-convert:hover {\n",
              "      background-color: #434B5C;\n",
              "      box-shadow: 0px 1px 3px 1px rgba(0, 0, 0, 0.15);\n",
              "      filter: drop-shadow(0px 1px 2px rgba(0, 0, 0, 0.3));\n",
              "      fill: #FFFFFF;\n",
              "    }\n",
              "  </style>\n",
              "\n",
              "      <script>\n",
              "        const buttonEl =\n",
              "          document.querySelector('#df-948405b5-96f0-4a67-afb0-1a2a364a4e6c button.colab-df-convert');\n",
              "        buttonEl.style.display =\n",
              "          google.colab.kernel.accessAllowed ? 'block' : 'none';\n",
              "\n",
              "        async function convertToInteractive(key) {\n",
              "          const element = document.querySelector('#df-948405b5-96f0-4a67-afb0-1a2a364a4e6c');\n",
              "          const dataTable =\n",
              "            await google.colab.kernel.invokeFunction('convertToInteractive',\n",
              "                                                     [key], {});\n",
              "          if (!dataTable) return;\n",
              "\n",
              "          const docLinkHtml = 'Like what you see? Visit the ' +\n",
              "            '<a target=\"_blank\" href=https://colab.research.google.com/notebooks/data_table.ipynb>data table notebook</a>'\n",
              "            + ' to learn more about interactive tables.';\n",
              "          element.innerHTML = '';\n",
              "          dataTable['output_type'] = 'display_data';\n",
              "          await google.colab.output.renderOutput(dataTable, element);\n",
              "          const docLink = document.createElement('div');\n",
              "          docLink.innerHTML = docLinkHtml;\n",
              "          element.appendChild(docLink);\n",
              "        }\n",
              "      </script>\n",
              "    </div>\n",
              "  </div>\n",
              "  "
            ]
          },
          "metadata": {},
          "execution_count": 13
        }
      ],
      "source": [
        "sample[\"normalized_text\"] = sample.text.apply(normalize)\n",
        "sample[\"tokenized_text\"] = sample.normalized_text.apply(tokenize)\n",
        "sample.head()"
      ]
    },
    {
      "cell_type": "markdown",
      "metadata": {
        "id": "Gk1s5iJMhVIZ"
      },
      "source": [
        "retirando stop words utilizando a biblioteca nltk"
      ]
    },
    {
      "cell_type": "code",
      "execution_count": null,
      "metadata": {
        "id": "sr0pZF55hZ5d"
      },
      "outputs": [],
      "source": [
        "stop_list_nltk = nltk.corpus.stopwords.words(\"english\")\n",
        "stop_list = ['a', 'about', 'above', 'after', 'again', 'against', 'all', 'am', 'an', 'and', 'any', 'are', 'are not', 'as', 'at', 'be', 'because', 'been', 'before', 'being', 'below', 'between', 'both', 'but', 'by', 'ca', 'cannot', 'could', 'not', 'did', 'do', 'does', 'doing', 'do', 'down', 'during', 'each', 'few', 'for', 'from', 'further', 'had', 'has', 'have', 'having', 'he', \"he'll\", 'is', 'her', 'here', 'hers', 'herself', 'him', 'himself', 'his', 'how', \"how's\", 'i', 'll', 'm', 'd', 'if', 'in', 'into', 'is', 'it', 'its', 'itself', 'lets', 'me', 'more', 'most', 'must', 'my', 'myself', 'no', 'nor', 'not', 'of', 'off', 'on', 'once', 'only', 'or', 'other', 'ought', 'our', 'ours']\n",
        "stop_list.extend(stop_list_nltk)\n",
        "stop_list = list(set(stop_list))\n",
        "def remove_stop_words(tokens):\n",
        "  global stop_list\n",
        "  new_tokenized_text = [no_stop_word for no_stop_word in tokens if no_stop_word not in stop_list]\n",
        "  return new_tokenized_text"
      ]
    },
    {
      "cell_type": "code",
      "execution_count": null,
      "metadata": {
        "colab": {
          "base_uri": "https://localhost:8080/",
          "height": 250
        },
        "id": "n4x0w0cthcm8",
        "outputId": "e3d6dbb2-2f38-408d-aec5-88423ab08c3f"
      },
      "outputs": [
        {
          "output_type": "execute_result",
          "data": {
            "text/plain": [
              "   target                                               text  \\\n",
              "0       0  @switchfoot http://twitpic.com/2y1zl - Awww, t...   \n",
              "1       0  is upset that he can't update his Facebook by ...   \n",
              "2       0  @Kenichan I dived many times for the ball. Man...   \n",
              "3       0    my whole body feels itchy and like its on fire    \n",
              "4       0  @nationwideclass no, it's not behaving at all....   \n",
              "\n",
              "                                     normalized_text  \\\n",
              "0  aww  that is a bummer   you shoulda got david ...   \n",
              "1  is upset that he ca not update his facebook by...   \n",
              "2  i dived many times for the ball  managed to sa...   \n",
              "3     my whole body feels itchy and like its on fire   \n",
              "4  no  it is not behaving at all  i m mad  why am...   \n",
              "\n",
              "                                      tokenized_text  \\\n",
              "0  [aww, that, is, a, bummer, you, shoulda, got, ...   \n",
              "1  [is, upset, that, he, ca, not, update, his, fa...   \n",
              "2  [i, dived, many, times, for, the, ball, manage...   \n",
              "3  [my, whole, body, feels, itchy, and, like, its...   \n",
              "4  [no, it, is, not, behaving, at, all, i, m, mad...   \n",
              "\n",
              "                   tokenized_text_without_stop_words  \n",
              "0  [aww, bummer, shoulda, got, david, carr, third...  \n",
              "1  [upset, update, facebook, texting, might, cry,...  \n",
              "2  [dived, many, times, ball, managed, save, 50, ...  \n",
              "3            [whole, body, feels, itchy, like, fire]  \n",
              "4                               [behaving, mad, see]  "
            ],
            "text/html": [
              "\n",
              "  <div id=\"df-b2eaa81f-0d88-4956-b506-1438dc567495\">\n",
              "    <div class=\"colab-df-container\">\n",
              "      <div>\n",
              "<style scoped>\n",
              "    .dataframe tbody tr th:only-of-type {\n",
              "        vertical-align: middle;\n",
              "    }\n",
              "\n",
              "    .dataframe tbody tr th {\n",
              "        vertical-align: top;\n",
              "    }\n",
              "\n",
              "    .dataframe thead th {\n",
              "        text-align: right;\n",
              "    }\n",
              "</style>\n",
              "<table border=\"1\" class=\"dataframe\">\n",
              "  <thead>\n",
              "    <tr style=\"text-align: right;\">\n",
              "      <th></th>\n",
              "      <th>target</th>\n",
              "      <th>text</th>\n",
              "      <th>normalized_text</th>\n",
              "      <th>tokenized_text</th>\n",
              "      <th>tokenized_text_without_stop_words</th>\n",
              "    </tr>\n",
              "  </thead>\n",
              "  <tbody>\n",
              "    <tr>\n",
              "      <th>0</th>\n",
              "      <td>0</td>\n",
              "      <td>@switchfoot http://twitpic.com/2y1zl - Awww, t...</td>\n",
              "      <td>aww  that is a bummer   you shoulda got david ...</td>\n",
              "      <td>[aww, that, is, a, bummer, you, shoulda, got, ...</td>\n",
              "      <td>[aww, bummer, shoulda, got, david, carr, third...</td>\n",
              "    </tr>\n",
              "    <tr>\n",
              "      <th>1</th>\n",
              "      <td>0</td>\n",
              "      <td>is upset that he can't update his Facebook by ...</td>\n",
              "      <td>is upset that he ca not update his facebook by...</td>\n",
              "      <td>[is, upset, that, he, ca, not, update, his, fa...</td>\n",
              "      <td>[upset, update, facebook, texting, might, cry,...</td>\n",
              "    </tr>\n",
              "    <tr>\n",
              "      <th>2</th>\n",
              "      <td>0</td>\n",
              "      <td>@Kenichan I dived many times for the ball. Man...</td>\n",
              "      <td>i dived many times for the ball  managed to sa...</td>\n",
              "      <td>[i, dived, many, times, for, the, ball, manage...</td>\n",
              "      <td>[dived, many, times, ball, managed, save, 50, ...</td>\n",
              "    </tr>\n",
              "    <tr>\n",
              "      <th>3</th>\n",
              "      <td>0</td>\n",
              "      <td>my whole body feels itchy and like its on fire</td>\n",
              "      <td>my whole body feels itchy and like its on fire</td>\n",
              "      <td>[my, whole, body, feels, itchy, and, like, its...</td>\n",
              "      <td>[whole, body, feels, itchy, like, fire]</td>\n",
              "    </tr>\n",
              "    <tr>\n",
              "      <th>4</th>\n",
              "      <td>0</td>\n",
              "      <td>@nationwideclass no, it's not behaving at all....</td>\n",
              "      <td>no  it is not behaving at all  i m mad  why am...</td>\n",
              "      <td>[no, it, is, not, behaving, at, all, i, m, mad...</td>\n",
              "      <td>[behaving, mad, see]</td>\n",
              "    </tr>\n",
              "  </tbody>\n",
              "</table>\n",
              "</div>\n",
              "      <button class=\"colab-df-convert\" onclick=\"convertToInteractive('df-b2eaa81f-0d88-4956-b506-1438dc567495')\"\n",
              "              title=\"Convert this dataframe to an interactive table.\"\n",
              "              style=\"display:none;\">\n",
              "        \n",
              "  <svg xmlns=\"http://www.w3.org/2000/svg\" height=\"24px\"viewBox=\"0 0 24 24\"\n",
              "       width=\"24px\">\n",
              "    <path d=\"M0 0h24v24H0V0z\" fill=\"none\"/>\n",
              "    <path d=\"M18.56 5.44l.94 2.06.94-2.06 2.06-.94-2.06-.94-.94-2.06-.94 2.06-2.06.94zm-11 1L8.5 8.5l.94-2.06 2.06-.94-2.06-.94L8.5 2.5l-.94 2.06-2.06.94zm10 10l.94 2.06.94-2.06 2.06-.94-2.06-.94-.94-2.06-.94 2.06-2.06.94z\"/><path d=\"M17.41 7.96l-1.37-1.37c-.4-.4-.92-.59-1.43-.59-.52 0-1.04.2-1.43.59L10.3 9.45l-7.72 7.72c-.78.78-.78 2.05 0 2.83L4 21.41c.39.39.9.59 1.41.59.51 0 1.02-.2 1.41-.59l7.78-7.78 2.81-2.81c.8-.78.8-2.07 0-2.86zM5.41 20L4 18.59l7.72-7.72 1.47 1.35L5.41 20z\"/>\n",
              "  </svg>\n",
              "      </button>\n",
              "      \n",
              "  <style>\n",
              "    .colab-df-container {\n",
              "      display:flex;\n",
              "      flex-wrap:wrap;\n",
              "      gap: 12px;\n",
              "    }\n",
              "\n",
              "    .colab-df-convert {\n",
              "      background-color: #E8F0FE;\n",
              "      border: none;\n",
              "      border-radius: 50%;\n",
              "      cursor: pointer;\n",
              "      display: none;\n",
              "      fill: #1967D2;\n",
              "      height: 32px;\n",
              "      padding: 0 0 0 0;\n",
              "      width: 32px;\n",
              "    }\n",
              "\n",
              "    .colab-df-convert:hover {\n",
              "      background-color: #E2EBFA;\n",
              "      box-shadow: 0px 1px 2px rgba(60, 64, 67, 0.3), 0px 1px 3px 1px rgba(60, 64, 67, 0.15);\n",
              "      fill: #174EA6;\n",
              "    }\n",
              "\n",
              "    [theme=dark] .colab-df-convert {\n",
              "      background-color: #3B4455;\n",
              "      fill: #D2E3FC;\n",
              "    }\n",
              "\n",
              "    [theme=dark] .colab-df-convert:hover {\n",
              "      background-color: #434B5C;\n",
              "      box-shadow: 0px 1px 3px 1px rgba(0, 0, 0, 0.15);\n",
              "      filter: drop-shadow(0px 1px 2px rgba(0, 0, 0, 0.3));\n",
              "      fill: #FFFFFF;\n",
              "    }\n",
              "  </style>\n",
              "\n",
              "      <script>\n",
              "        const buttonEl =\n",
              "          document.querySelector('#df-b2eaa81f-0d88-4956-b506-1438dc567495 button.colab-df-convert');\n",
              "        buttonEl.style.display =\n",
              "          google.colab.kernel.accessAllowed ? 'block' : 'none';\n",
              "\n",
              "        async function convertToInteractive(key) {\n",
              "          const element = document.querySelector('#df-b2eaa81f-0d88-4956-b506-1438dc567495');\n",
              "          const dataTable =\n",
              "            await google.colab.kernel.invokeFunction('convertToInteractive',\n",
              "                                                     [key], {});\n",
              "          if (!dataTable) return;\n",
              "\n",
              "          const docLinkHtml = 'Like what you see? Visit the ' +\n",
              "            '<a target=\"_blank\" href=https://colab.research.google.com/notebooks/data_table.ipynb>data table notebook</a>'\n",
              "            + ' to learn more about interactive tables.';\n",
              "          element.innerHTML = '';\n",
              "          dataTable['output_type'] = 'display_data';\n",
              "          await google.colab.output.renderOutput(dataTable, element);\n",
              "          const docLink = document.createElement('div');\n",
              "          docLink.innerHTML = docLinkHtml;\n",
              "          element.appendChild(docLink);\n",
              "        }\n",
              "      </script>\n",
              "    </div>\n",
              "  </div>\n",
              "  "
            ]
          },
          "metadata": {},
          "execution_count": 15
        }
      ],
      "source": [
        "sample[\"tokenized_text_without_stop_words\"] = sample[\"tokenized_text\"].apply(remove_stop_words)\n",
        "sample.head()"
      ]
    },
    {
      "cell_type": "markdown",
      "metadata": {
        "id": "BeQ0AS9MiTkR"
      },
      "source": [
        "Utilizando o WordNetLemmatized para normalização dos tokens"
      ]
    },
    {
      "cell_type": "code",
      "execution_count": null,
      "metadata": {
        "id": "yEp2Ez2qi2FN"
      },
      "outputs": [],
      "source": [
        "stemmer = nltk.stem.porter.PorterStemmer()\n",
        "stemmed_vocabulary_list = []\n",
        "def stemming(tokens):\n",
        "  global stemmer, stemmed_vocabulary_list\n",
        "  stemmed_tokens = [stemmer.stem(token) for token in tokens if token != \"\"]\n",
        "  stemmed_vocabulary_list.extend(stemmed_tokens)\n",
        "  return stemmed_tokens"
      ]
    },
    {
      "cell_type": "code",
      "execution_count": null,
      "metadata": {
        "colab": {
          "base_uri": "https://localhost:8080/",
          "height": 337
        },
        "id": "abX25GihlIKD",
        "outputId": "aedd9ee4-fcf9-43ec-c93c-c289bd540cca"
      },
      "outputs": [
        {
          "output_type": "execute_result",
          "data": {
            "text/plain": [
              "   target                                               text  \\\n",
              "0       0  @switchfoot http://twitpic.com/2y1zl - Awww, t...   \n",
              "1       0  is upset that he can't update his Facebook by ...   \n",
              "2       0  @Kenichan I dived many times for the ball. Man...   \n",
              "3       0    my whole body feels itchy and like its on fire    \n",
              "4       0  @nationwideclass no, it's not behaving at all....   \n",
              "\n",
              "                                     normalized_text  \\\n",
              "0  aww  that is a bummer   you shoulda got david ...   \n",
              "1  is upset that he ca not update his facebook by...   \n",
              "2  i dived many times for the ball  managed to sa...   \n",
              "3     my whole body feels itchy and like its on fire   \n",
              "4  no  it is not behaving at all  i m mad  why am...   \n",
              "\n",
              "                                      tokenized_text  \\\n",
              "0  [aww, that, is, a, bummer, you, shoulda, got, ...   \n",
              "1  [is, upset, that, he, ca, not, update, his, fa...   \n",
              "2  [i, dived, many, times, for, the, ball, manage...   \n",
              "3  [my, whole, body, feels, itchy, and, like, its...   \n",
              "4  [no, it, is, not, behaving, at, all, i, m, mad...   \n",
              "\n",
              "                   tokenized_text_without_stop_words  \\\n",
              "0  [aww, bummer, shoulda, got, david, carr, third...   \n",
              "1  [upset, update, facebook, texting, might, cry,...   \n",
              "2  [dived, many, times, ball, managed, save, 50, ...   \n",
              "3            [whole, body, feels, itchy, like, fire]   \n",
              "4                               [behaving, mad, see]   \n",
              "\n",
              "                                      stemmed_tokens  \n",
              "0  [aww, bummer, shoulda, got, david, carr, third...  \n",
              "1  [upset, updat, facebook, text, might, cri, res...  \n",
              "2  [dive, mani, time, ball, manag, save, 50, rest...  \n",
              "3             [whole, bodi, feel, itchi, like, fire]  \n",
              "4                                  [behav, mad, see]  "
            ],
            "text/html": [
              "\n",
              "  <div id=\"df-85063475-9dee-4021-8273-7da9b2910023\">\n",
              "    <div class=\"colab-df-container\">\n",
              "      <div>\n",
              "<style scoped>\n",
              "    .dataframe tbody tr th:only-of-type {\n",
              "        vertical-align: middle;\n",
              "    }\n",
              "\n",
              "    .dataframe tbody tr th {\n",
              "        vertical-align: top;\n",
              "    }\n",
              "\n",
              "    .dataframe thead th {\n",
              "        text-align: right;\n",
              "    }\n",
              "</style>\n",
              "<table border=\"1\" class=\"dataframe\">\n",
              "  <thead>\n",
              "    <tr style=\"text-align: right;\">\n",
              "      <th></th>\n",
              "      <th>target</th>\n",
              "      <th>text</th>\n",
              "      <th>normalized_text</th>\n",
              "      <th>tokenized_text</th>\n",
              "      <th>tokenized_text_without_stop_words</th>\n",
              "      <th>stemmed_tokens</th>\n",
              "    </tr>\n",
              "  </thead>\n",
              "  <tbody>\n",
              "    <tr>\n",
              "      <th>0</th>\n",
              "      <td>0</td>\n",
              "      <td>@switchfoot http://twitpic.com/2y1zl - Awww, t...</td>\n",
              "      <td>aww  that is a bummer   you shoulda got david ...</td>\n",
              "      <td>[aww, that, is, a, bummer, you, shoulda, got, ...</td>\n",
              "      <td>[aww, bummer, shoulda, got, david, carr, third...</td>\n",
              "      <td>[aww, bummer, shoulda, got, david, carr, third...</td>\n",
              "    </tr>\n",
              "    <tr>\n",
              "      <th>1</th>\n",
              "      <td>0</td>\n",
              "      <td>is upset that he can't update his Facebook by ...</td>\n",
              "      <td>is upset that he ca not update his facebook by...</td>\n",
              "      <td>[is, upset, that, he, ca, not, update, his, fa...</td>\n",
              "      <td>[upset, update, facebook, texting, might, cry,...</td>\n",
              "      <td>[upset, updat, facebook, text, might, cri, res...</td>\n",
              "    </tr>\n",
              "    <tr>\n",
              "      <th>2</th>\n",
              "      <td>0</td>\n",
              "      <td>@Kenichan I dived many times for the ball. Man...</td>\n",
              "      <td>i dived many times for the ball  managed to sa...</td>\n",
              "      <td>[i, dived, many, times, for, the, ball, manage...</td>\n",
              "      <td>[dived, many, times, ball, managed, save, 50, ...</td>\n",
              "      <td>[dive, mani, time, ball, manag, save, 50, rest...</td>\n",
              "    </tr>\n",
              "    <tr>\n",
              "      <th>3</th>\n",
              "      <td>0</td>\n",
              "      <td>my whole body feels itchy and like its on fire</td>\n",
              "      <td>my whole body feels itchy and like its on fire</td>\n",
              "      <td>[my, whole, body, feels, itchy, and, like, its...</td>\n",
              "      <td>[whole, body, feels, itchy, like, fire]</td>\n",
              "      <td>[whole, bodi, feel, itchi, like, fire]</td>\n",
              "    </tr>\n",
              "    <tr>\n",
              "      <th>4</th>\n",
              "      <td>0</td>\n",
              "      <td>@nationwideclass no, it's not behaving at all....</td>\n",
              "      <td>no  it is not behaving at all  i m mad  why am...</td>\n",
              "      <td>[no, it, is, not, behaving, at, all, i, m, mad...</td>\n",
              "      <td>[behaving, mad, see]</td>\n",
              "      <td>[behav, mad, see]</td>\n",
              "    </tr>\n",
              "  </tbody>\n",
              "</table>\n",
              "</div>\n",
              "      <button class=\"colab-df-convert\" onclick=\"convertToInteractive('df-85063475-9dee-4021-8273-7da9b2910023')\"\n",
              "              title=\"Convert this dataframe to an interactive table.\"\n",
              "              style=\"display:none;\">\n",
              "        \n",
              "  <svg xmlns=\"http://www.w3.org/2000/svg\" height=\"24px\"viewBox=\"0 0 24 24\"\n",
              "       width=\"24px\">\n",
              "    <path d=\"M0 0h24v24H0V0z\" fill=\"none\"/>\n",
              "    <path d=\"M18.56 5.44l.94 2.06.94-2.06 2.06-.94-2.06-.94-.94-2.06-.94 2.06-2.06.94zm-11 1L8.5 8.5l.94-2.06 2.06-.94-2.06-.94L8.5 2.5l-.94 2.06-2.06.94zm10 10l.94 2.06.94-2.06 2.06-.94-2.06-.94-.94-2.06-.94 2.06-2.06.94z\"/><path d=\"M17.41 7.96l-1.37-1.37c-.4-.4-.92-.59-1.43-.59-.52 0-1.04.2-1.43.59L10.3 9.45l-7.72 7.72c-.78.78-.78 2.05 0 2.83L4 21.41c.39.39.9.59 1.41.59.51 0 1.02-.2 1.41-.59l7.78-7.78 2.81-2.81c.8-.78.8-2.07 0-2.86zM5.41 20L4 18.59l7.72-7.72 1.47 1.35L5.41 20z\"/>\n",
              "  </svg>\n",
              "      </button>\n",
              "      \n",
              "  <style>\n",
              "    .colab-df-container {\n",
              "      display:flex;\n",
              "      flex-wrap:wrap;\n",
              "      gap: 12px;\n",
              "    }\n",
              "\n",
              "    .colab-df-convert {\n",
              "      background-color: #E8F0FE;\n",
              "      border: none;\n",
              "      border-radius: 50%;\n",
              "      cursor: pointer;\n",
              "      display: none;\n",
              "      fill: #1967D2;\n",
              "      height: 32px;\n",
              "      padding: 0 0 0 0;\n",
              "      width: 32px;\n",
              "    }\n",
              "\n",
              "    .colab-df-convert:hover {\n",
              "      background-color: #E2EBFA;\n",
              "      box-shadow: 0px 1px 2px rgba(60, 64, 67, 0.3), 0px 1px 3px 1px rgba(60, 64, 67, 0.15);\n",
              "      fill: #174EA6;\n",
              "    }\n",
              "\n",
              "    [theme=dark] .colab-df-convert {\n",
              "      background-color: #3B4455;\n",
              "      fill: #D2E3FC;\n",
              "    }\n",
              "\n",
              "    [theme=dark] .colab-df-convert:hover {\n",
              "      background-color: #434B5C;\n",
              "      box-shadow: 0px 1px 3px 1px rgba(0, 0, 0, 0.15);\n",
              "      filter: drop-shadow(0px 1px 2px rgba(0, 0, 0, 0.3));\n",
              "      fill: #FFFFFF;\n",
              "    }\n",
              "  </style>\n",
              "\n",
              "      <script>\n",
              "        const buttonEl =\n",
              "          document.querySelector('#df-85063475-9dee-4021-8273-7da9b2910023 button.colab-df-convert');\n",
              "        buttonEl.style.display =\n",
              "          google.colab.kernel.accessAllowed ? 'block' : 'none';\n",
              "\n",
              "        async function convertToInteractive(key) {\n",
              "          const element = document.querySelector('#df-85063475-9dee-4021-8273-7da9b2910023');\n",
              "          const dataTable =\n",
              "            await google.colab.kernel.invokeFunction('convertToInteractive',\n",
              "                                                     [key], {});\n",
              "          if (!dataTable) return;\n",
              "\n",
              "          const docLinkHtml = 'Like what you see? Visit the ' +\n",
              "            '<a target=\"_blank\" href=https://colab.research.google.com/notebooks/data_table.ipynb>data table notebook</a>'\n",
              "            + ' to learn more about interactive tables.';\n",
              "          element.innerHTML = '';\n",
              "          dataTable['output_type'] = 'display_data';\n",
              "          await google.colab.output.renderOutput(dataTable, element);\n",
              "          const docLink = document.createElement('div');\n",
              "          docLink.innerHTML = docLinkHtml;\n",
              "          element.appendChild(docLink);\n",
              "        }\n",
              "      </script>\n",
              "    </div>\n",
              "  </div>\n",
              "  "
            ]
          },
          "metadata": {},
          "execution_count": 17
        }
      ],
      "source": [
        "sample[\"stemmed_tokens\"] = sample[\"tokenized_text_without_stop_words\"].apply(stemming)\n",
        "sample.head()"
      ]
    },
    {
      "cell_type": "code",
      "execution_count": null,
      "metadata": {
        "colab": {
          "base_uri": "https://localhost:8080/",
          "height": 354
        },
        "id": "Mwigd6HctFYo",
        "outputId": "139c6687-eae2-4c86-b2c9-bab94a520265"
      },
      "outputs": [
        {
          "output_type": "execute_result",
          "data": {
            "text/plain": [
              "   target                                               text  \\\n",
              "0       0  @switchfoot http://twitpic.com/2y1zl - Awww, t...   \n",
              "1       0  is upset that he can't update his Facebook by ...   \n",
              "2       0  @Kenichan I dived many times for the ball. Man...   \n",
              "3       0    my whole body feels itchy and like its on fire    \n",
              "4       0  @nationwideclass no, it's not behaving at all....   \n",
              "\n",
              "                                     normalized_text  \\\n",
              "0  aww  that is a bummer   you shoulda got david ...   \n",
              "1  is upset that he ca not update his facebook by...   \n",
              "2  i dived many times for the ball  managed to sa...   \n",
              "3     my whole body feels itchy and like its on fire   \n",
              "4  no  it is not behaving at all  i m mad  why am...   \n",
              "\n",
              "                                      tokenized_text  \\\n",
              "0  [aww, that, is, a, bummer, you, shoulda, got, ...   \n",
              "1  [is, upset, that, he, ca, not, update, his, fa...   \n",
              "2  [i, dived, many, times, for, the, ball, manage...   \n",
              "3  [my, whole, body, feels, itchy, and, like, its...   \n",
              "4  [no, it, is, not, behaving, at, all, i, m, mad...   \n",
              "\n",
              "                   tokenized_text_without_stop_words  \\\n",
              "0  [aww, bummer, shoulda, got, david, carr, third...   \n",
              "1  [upset, update, facebook, texting, might, cry,...   \n",
              "2  [dived, many, times, ball, managed, save, 50, ...   \n",
              "3            [whole, body, feels, itchy, like, fire]   \n",
              "4                               [behaving, mad, see]   \n",
              "\n",
              "                                      stemmed_tokens  \\\n",
              "0  [aww, bummer, shoulda, got, david, carr, third...   \n",
              "1  [upset, updat, facebook, text, might, cri, res...   \n",
              "2  [dive, mani, time, ball, manag, save, 50, rest...   \n",
              "3             [whole, bodi, feel, itchi, like, fire]   \n",
              "4                                  [behav, mad, see]   \n",
              "\n",
              "                                        stemmed_text  \n",
              "0   aww bummer shoulda got david carr third day mirk  \n",
              "1  upset updat facebook text might cri result sch...  \n",
              "2    dive mani time ball manag save 50 rest go bound  \n",
              "3                    whole bodi feel itchi like fire  \n",
              "4                                      behav mad see  "
            ],
            "text/html": [
              "\n",
              "  <div id=\"df-0765aa6f-6707-4ff2-9d86-cedc721e90d8\">\n",
              "    <div class=\"colab-df-container\">\n",
              "      <div>\n",
              "<style scoped>\n",
              "    .dataframe tbody tr th:only-of-type {\n",
              "        vertical-align: middle;\n",
              "    }\n",
              "\n",
              "    .dataframe tbody tr th {\n",
              "        vertical-align: top;\n",
              "    }\n",
              "\n",
              "    .dataframe thead th {\n",
              "        text-align: right;\n",
              "    }\n",
              "</style>\n",
              "<table border=\"1\" class=\"dataframe\">\n",
              "  <thead>\n",
              "    <tr style=\"text-align: right;\">\n",
              "      <th></th>\n",
              "      <th>target</th>\n",
              "      <th>text</th>\n",
              "      <th>normalized_text</th>\n",
              "      <th>tokenized_text</th>\n",
              "      <th>tokenized_text_without_stop_words</th>\n",
              "      <th>stemmed_tokens</th>\n",
              "      <th>stemmed_text</th>\n",
              "    </tr>\n",
              "  </thead>\n",
              "  <tbody>\n",
              "    <tr>\n",
              "      <th>0</th>\n",
              "      <td>0</td>\n",
              "      <td>@switchfoot http://twitpic.com/2y1zl - Awww, t...</td>\n",
              "      <td>aww  that is a bummer   you shoulda got david ...</td>\n",
              "      <td>[aww, that, is, a, bummer, you, shoulda, got, ...</td>\n",
              "      <td>[aww, bummer, shoulda, got, david, carr, third...</td>\n",
              "      <td>[aww, bummer, shoulda, got, david, carr, third...</td>\n",
              "      <td>aww bummer shoulda got david carr third day mirk</td>\n",
              "    </tr>\n",
              "    <tr>\n",
              "      <th>1</th>\n",
              "      <td>0</td>\n",
              "      <td>is upset that he can't update his Facebook by ...</td>\n",
              "      <td>is upset that he ca not update his facebook by...</td>\n",
              "      <td>[is, upset, that, he, ca, not, update, his, fa...</td>\n",
              "      <td>[upset, update, facebook, texting, might, cry,...</td>\n",
              "      <td>[upset, updat, facebook, text, might, cri, res...</td>\n",
              "      <td>upset updat facebook text might cri result sch...</td>\n",
              "    </tr>\n",
              "    <tr>\n",
              "      <th>2</th>\n",
              "      <td>0</td>\n",
              "      <td>@Kenichan I dived many times for the ball. Man...</td>\n",
              "      <td>i dived many times for the ball  managed to sa...</td>\n",
              "      <td>[i, dived, many, times, for, the, ball, manage...</td>\n",
              "      <td>[dived, many, times, ball, managed, save, 50, ...</td>\n",
              "      <td>[dive, mani, time, ball, manag, save, 50, rest...</td>\n",
              "      <td>dive mani time ball manag save 50 rest go bound</td>\n",
              "    </tr>\n",
              "    <tr>\n",
              "      <th>3</th>\n",
              "      <td>0</td>\n",
              "      <td>my whole body feels itchy and like its on fire</td>\n",
              "      <td>my whole body feels itchy and like its on fire</td>\n",
              "      <td>[my, whole, body, feels, itchy, and, like, its...</td>\n",
              "      <td>[whole, body, feels, itchy, like, fire]</td>\n",
              "      <td>[whole, bodi, feel, itchi, like, fire]</td>\n",
              "      <td>whole bodi feel itchi like fire</td>\n",
              "    </tr>\n",
              "    <tr>\n",
              "      <th>4</th>\n",
              "      <td>0</td>\n",
              "      <td>@nationwideclass no, it's not behaving at all....</td>\n",
              "      <td>no  it is not behaving at all  i m mad  why am...</td>\n",
              "      <td>[no, it, is, not, behaving, at, all, i, m, mad...</td>\n",
              "      <td>[behaving, mad, see]</td>\n",
              "      <td>[behav, mad, see]</td>\n",
              "      <td>behav mad see</td>\n",
              "    </tr>\n",
              "  </tbody>\n",
              "</table>\n",
              "</div>\n",
              "      <button class=\"colab-df-convert\" onclick=\"convertToInteractive('df-0765aa6f-6707-4ff2-9d86-cedc721e90d8')\"\n",
              "              title=\"Convert this dataframe to an interactive table.\"\n",
              "              style=\"display:none;\">\n",
              "        \n",
              "  <svg xmlns=\"http://www.w3.org/2000/svg\" height=\"24px\"viewBox=\"0 0 24 24\"\n",
              "       width=\"24px\">\n",
              "    <path d=\"M0 0h24v24H0V0z\" fill=\"none\"/>\n",
              "    <path d=\"M18.56 5.44l.94 2.06.94-2.06 2.06-.94-2.06-.94-.94-2.06-.94 2.06-2.06.94zm-11 1L8.5 8.5l.94-2.06 2.06-.94-2.06-.94L8.5 2.5l-.94 2.06-2.06.94zm10 10l.94 2.06.94-2.06 2.06-.94-2.06-.94-.94-2.06-.94 2.06-2.06.94z\"/><path d=\"M17.41 7.96l-1.37-1.37c-.4-.4-.92-.59-1.43-.59-.52 0-1.04.2-1.43.59L10.3 9.45l-7.72 7.72c-.78.78-.78 2.05 0 2.83L4 21.41c.39.39.9.59 1.41.59.51 0 1.02-.2 1.41-.59l7.78-7.78 2.81-2.81c.8-.78.8-2.07 0-2.86zM5.41 20L4 18.59l7.72-7.72 1.47 1.35L5.41 20z\"/>\n",
              "  </svg>\n",
              "      </button>\n",
              "      \n",
              "  <style>\n",
              "    .colab-df-container {\n",
              "      display:flex;\n",
              "      flex-wrap:wrap;\n",
              "      gap: 12px;\n",
              "    }\n",
              "\n",
              "    .colab-df-convert {\n",
              "      background-color: #E8F0FE;\n",
              "      border: none;\n",
              "      border-radius: 50%;\n",
              "      cursor: pointer;\n",
              "      display: none;\n",
              "      fill: #1967D2;\n",
              "      height: 32px;\n",
              "      padding: 0 0 0 0;\n",
              "      width: 32px;\n",
              "    }\n",
              "\n",
              "    .colab-df-convert:hover {\n",
              "      background-color: #E2EBFA;\n",
              "      box-shadow: 0px 1px 2px rgba(60, 64, 67, 0.3), 0px 1px 3px 1px rgba(60, 64, 67, 0.15);\n",
              "      fill: #174EA6;\n",
              "    }\n",
              "\n",
              "    [theme=dark] .colab-df-convert {\n",
              "      background-color: #3B4455;\n",
              "      fill: #D2E3FC;\n",
              "    }\n",
              "\n",
              "    [theme=dark] .colab-df-convert:hover {\n",
              "      background-color: #434B5C;\n",
              "      box-shadow: 0px 1px 3px 1px rgba(0, 0, 0, 0.15);\n",
              "      filter: drop-shadow(0px 1px 2px rgba(0, 0, 0, 0.3));\n",
              "      fill: #FFFFFF;\n",
              "    }\n",
              "  </style>\n",
              "\n",
              "      <script>\n",
              "        const buttonEl =\n",
              "          document.querySelector('#df-0765aa6f-6707-4ff2-9d86-cedc721e90d8 button.colab-df-convert');\n",
              "        buttonEl.style.display =\n",
              "          google.colab.kernel.accessAllowed ? 'block' : 'none';\n",
              "\n",
              "        async function convertToInteractive(key) {\n",
              "          const element = document.querySelector('#df-0765aa6f-6707-4ff2-9d86-cedc721e90d8');\n",
              "          const dataTable =\n",
              "            await google.colab.kernel.invokeFunction('convertToInteractive',\n",
              "                                                     [key], {});\n",
              "          if (!dataTable) return;\n",
              "\n",
              "          const docLinkHtml = 'Like what you see? Visit the ' +\n",
              "            '<a target=\"_blank\" href=https://colab.research.google.com/notebooks/data_table.ipynb>data table notebook</a>'\n",
              "            + ' to learn more about interactive tables.';\n",
              "          element.innerHTML = '';\n",
              "          dataTable['output_type'] = 'display_data';\n",
              "          await google.colab.output.renderOutput(dataTable, element);\n",
              "          const docLink = document.createElement('div');\n",
              "          docLink.innerHTML = docLinkHtml;\n",
              "          element.appendChild(docLink);\n",
              "        }\n",
              "      </script>\n",
              "    </div>\n",
              "  </div>\n",
              "  "
            ]
          },
          "metadata": {},
          "execution_count": 18
        }
      ],
      "source": [
        "sample[\"stemmed_text\"] = sample.stemmed_tokens.apply(lambda stemmed_tokens_list: \" \".join(stemmed_tokens_list))\n",
        "sample.head()"
      ]
    },
    {
      "cell_type": "code",
      "execution_count": null,
      "metadata": {
        "colab": {
          "base_uri": "https://localhost:8080/"
        },
        "id": "DJGFtVgpchZX",
        "outputId": "fb11e96b-fdbf-4938-8cb2-4fa5df5863cc"
      },
      "outputs": [
        {
          "output_type": "stream",
          "name": "stdout",
          "text": [
            "25818\n",
            "20309\n"
          ]
        }
      ],
      "source": [
        "vocabulary = list(set(vocabulary))\n",
        "print(len(vocabulary))\n",
        "stemmed_vocabulary_list = list(set(stemmed_vocabulary_list))\n",
        "print(len(stemmed_vocabulary_list))"
      ]
    },
    {
      "cell_type": "markdown",
      "metadata": {
        "id": "f4bBGAFBv03Q"
      },
      "source": [
        "Com o dataset pré-processado, devemos separar em treinamento, validação e teste"
      ]
    },
    {
      "cell_type": "code",
      "execution_count": null,
      "metadata": {
        "colab": {
          "base_uri": "https://localhost:8080/",
          "height": 354
        },
        "id": "SMnL30iPv9L4",
        "outputId": "603ef73f-08b4-4581-eaf9-53fbb7fda72b"
      },
      "outputs": [
        {
          "output_type": "execute_result",
          "data": {
            "text/plain": [
              "   target                                               text  \\\n",
              "0       0  @switchfoot http://twitpic.com/2y1zl - Awww, t...   \n",
              "1       0  is upset that he can't update his Facebook by ...   \n",
              "2       0  @Kenichan I dived many times for the ball. Man...   \n",
              "3       0    my whole body feels itchy and like its on fire    \n",
              "4       0  @nationwideclass no, it's not behaving at all....   \n",
              "\n",
              "                                     normalized_text  \\\n",
              "0  aww  that is a bummer   you shoulda got david ...   \n",
              "1  is upset that he ca not update his facebook by...   \n",
              "2  i dived many times for the ball  managed to sa...   \n",
              "3     my whole body feels itchy and like its on fire   \n",
              "4  no  it is not behaving at all  i m mad  why am...   \n",
              "\n",
              "                                      tokenized_text  \\\n",
              "0  [aww, that, is, a, bummer, you, shoulda, got, ...   \n",
              "1  [is, upset, that, he, ca, not, update, his, fa...   \n",
              "2  [i, dived, many, times, for, the, ball, manage...   \n",
              "3  [my, whole, body, feels, itchy, and, like, its...   \n",
              "4  [no, it, is, not, behaving, at, all, i, m, mad...   \n",
              "\n",
              "                   tokenized_text_without_stop_words  \\\n",
              "0  [aww, bummer, shoulda, got, david, carr, third...   \n",
              "1  [upset, update, facebook, texting, might, cry,...   \n",
              "2  [dived, many, times, ball, managed, save, 50, ...   \n",
              "3            [whole, body, feels, itchy, like, fire]   \n",
              "4                               [behaving, mad, see]   \n",
              "\n",
              "                                      stemmed_tokens  \\\n",
              "0  [aww, bummer, shoulda, got, david, carr, third...   \n",
              "1  [upset, updat, facebook, text, might, cri, res...   \n",
              "2  [dive, mani, time, ball, manag, save, 50, rest...   \n",
              "3             [whole, bodi, feel, itchi, like, fire]   \n",
              "4                                  [behav, mad, see]   \n",
              "\n",
              "                                        stemmed_text  \n",
              "0   aww bummer shoulda got david carr third day mirk  \n",
              "1  upset updat facebook text might cri result sch...  \n",
              "2    dive mani time ball manag save 50 rest go bound  \n",
              "3                    whole bodi feel itchi like fire  \n",
              "4                                      behav mad see  "
            ],
            "text/html": [
              "\n",
              "  <div id=\"df-db349d82-15e5-4d74-9083-ff38c50a7065\">\n",
              "    <div class=\"colab-df-container\">\n",
              "      <div>\n",
              "<style scoped>\n",
              "    .dataframe tbody tr th:only-of-type {\n",
              "        vertical-align: middle;\n",
              "    }\n",
              "\n",
              "    .dataframe tbody tr th {\n",
              "        vertical-align: top;\n",
              "    }\n",
              "\n",
              "    .dataframe thead th {\n",
              "        text-align: right;\n",
              "    }\n",
              "</style>\n",
              "<table border=\"1\" class=\"dataframe\">\n",
              "  <thead>\n",
              "    <tr style=\"text-align: right;\">\n",
              "      <th></th>\n",
              "      <th>target</th>\n",
              "      <th>text</th>\n",
              "      <th>normalized_text</th>\n",
              "      <th>tokenized_text</th>\n",
              "      <th>tokenized_text_without_stop_words</th>\n",
              "      <th>stemmed_tokens</th>\n",
              "      <th>stemmed_text</th>\n",
              "    </tr>\n",
              "  </thead>\n",
              "  <tbody>\n",
              "    <tr>\n",
              "      <th>0</th>\n",
              "      <td>0</td>\n",
              "      <td>@switchfoot http://twitpic.com/2y1zl - Awww, t...</td>\n",
              "      <td>aww  that is a bummer   you shoulda got david ...</td>\n",
              "      <td>[aww, that, is, a, bummer, you, shoulda, got, ...</td>\n",
              "      <td>[aww, bummer, shoulda, got, david, carr, third...</td>\n",
              "      <td>[aww, bummer, shoulda, got, david, carr, third...</td>\n",
              "      <td>aww bummer shoulda got david carr third day mirk</td>\n",
              "    </tr>\n",
              "    <tr>\n",
              "      <th>1</th>\n",
              "      <td>0</td>\n",
              "      <td>is upset that he can't update his Facebook by ...</td>\n",
              "      <td>is upset that he ca not update his facebook by...</td>\n",
              "      <td>[is, upset, that, he, ca, not, update, his, fa...</td>\n",
              "      <td>[upset, update, facebook, texting, might, cry,...</td>\n",
              "      <td>[upset, updat, facebook, text, might, cri, res...</td>\n",
              "      <td>upset updat facebook text might cri result sch...</td>\n",
              "    </tr>\n",
              "    <tr>\n",
              "      <th>2</th>\n",
              "      <td>0</td>\n",
              "      <td>@Kenichan I dived many times for the ball. Man...</td>\n",
              "      <td>i dived many times for the ball  managed to sa...</td>\n",
              "      <td>[i, dived, many, times, for, the, ball, manage...</td>\n",
              "      <td>[dived, many, times, ball, managed, save, 50, ...</td>\n",
              "      <td>[dive, mani, time, ball, manag, save, 50, rest...</td>\n",
              "      <td>dive mani time ball manag save 50 rest go bound</td>\n",
              "    </tr>\n",
              "    <tr>\n",
              "      <th>3</th>\n",
              "      <td>0</td>\n",
              "      <td>my whole body feels itchy and like its on fire</td>\n",
              "      <td>my whole body feels itchy and like its on fire</td>\n",
              "      <td>[my, whole, body, feels, itchy, and, like, its...</td>\n",
              "      <td>[whole, body, feels, itchy, like, fire]</td>\n",
              "      <td>[whole, bodi, feel, itchi, like, fire]</td>\n",
              "      <td>whole bodi feel itchi like fire</td>\n",
              "    </tr>\n",
              "    <tr>\n",
              "      <th>4</th>\n",
              "      <td>0</td>\n",
              "      <td>@nationwideclass no, it's not behaving at all....</td>\n",
              "      <td>no  it is not behaving at all  i m mad  why am...</td>\n",
              "      <td>[no, it, is, not, behaving, at, all, i, m, mad...</td>\n",
              "      <td>[behaving, mad, see]</td>\n",
              "      <td>[behav, mad, see]</td>\n",
              "      <td>behav mad see</td>\n",
              "    </tr>\n",
              "  </tbody>\n",
              "</table>\n",
              "</div>\n",
              "      <button class=\"colab-df-convert\" onclick=\"convertToInteractive('df-db349d82-15e5-4d74-9083-ff38c50a7065')\"\n",
              "              title=\"Convert this dataframe to an interactive table.\"\n",
              "              style=\"display:none;\">\n",
              "        \n",
              "  <svg xmlns=\"http://www.w3.org/2000/svg\" height=\"24px\"viewBox=\"0 0 24 24\"\n",
              "       width=\"24px\">\n",
              "    <path d=\"M0 0h24v24H0V0z\" fill=\"none\"/>\n",
              "    <path d=\"M18.56 5.44l.94 2.06.94-2.06 2.06-.94-2.06-.94-.94-2.06-.94 2.06-2.06.94zm-11 1L8.5 8.5l.94-2.06 2.06-.94-2.06-.94L8.5 2.5l-.94 2.06-2.06.94zm10 10l.94 2.06.94-2.06 2.06-.94-2.06-.94-.94-2.06-.94 2.06-2.06.94z\"/><path d=\"M17.41 7.96l-1.37-1.37c-.4-.4-.92-.59-1.43-.59-.52 0-1.04.2-1.43.59L10.3 9.45l-7.72 7.72c-.78.78-.78 2.05 0 2.83L4 21.41c.39.39.9.59 1.41.59.51 0 1.02-.2 1.41-.59l7.78-7.78 2.81-2.81c.8-.78.8-2.07 0-2.86zM5.41 20L4 18.59l7.72-7.72 1.47 1.35L5.41 20z\"/>\n",
              "  </svg>\n",
              "      </button>\n",
              "      \n",
              "  <style>\n",
              "    .colab-df-container {\n",
              "      display:flex;\n",
              "      flex-wrap:wrap;\n",
              "      gap: 12px;\n",
              "    }\n",
              "\n",
              "    .colab-df-convert {\n",
              "      background-color: #E8F0FE;\n",
              "      border: none;\n",
              "      border-radius: 50%;\n",
              "      cursor: pointer;\n",
              "      display: none;\n",
              "      fill: #1967D2;\n",
              "      height: 32px;\n",
              "      padding: 0 0 0 0;\n",
              "      width: 32px;\n",
              "    }\n",
              "\n",
              "    .colab-df-convert:hover {\n",
              "      background-color: #E2EBFA;\n",
              "      box-shadow: 0px 1px 2px rgba(60, 64, 67, 0.3), 0px 1px 3px 1px rgba(60, 64, 67, 0.15);\n",
              "      fill: #174EA6;\n",
              "    }\n",
              "\n",
              "    [theme=dark] .colab-df-convert {\n",
              "      background-color: #3B4455;\n",
              "      fill: #D2E3FC;\n",
              "    }\n",
              "\n",
              "    [theme=dark] .colab-df-convert:hover {\n",
              "      background-color: #434B5C;\n",
              "      box-shadow: 0px 1px 3px 1px rgba(0, 0, 0, 0.15);\n",
              "      filter: drop-shadow(0px 1px 2px rgba(0, 0, 0, 0.3));\n",
              "      fill: #FFFFFF;\n",
              "    }\n",
              "  </style>\n",
              "\n",
              "      <script>\n",
              "        const buttonEl =\n",
              "          document.querySelector('#df-db349d82-15e5-4d74-9083-ff38c50a7065 button.colab-df-convert');\n",
              "        buttonEl.style.display =\n",
              "          google.colab.kernel.accessAllowed ? 'block' : 'none';\n",
              "\n",
              "        async function convertToInteractive(key) {\n",
              "          const element = document.querySelector('#df-db349d82-15e5-4d74-9083-ff38c50a7065');\n",
              "          const dataTable =\n",
              "            await google.colab.kernel.invokeFunction('convertToInteractive',\n",
              "                                                     [key], {});\n",
              "          if (!dataTable) return;\n",
              "\n",
              "          const docLinkHtml = 'Like what you see? Visit the ' +\n",
              "            '<a target=\"_blank\" href=https://colab.research.google.com/notebooks/data_table.ipynb>data table notebook</a>'\n",
              "            + ' to learn more about interactive tables.';\n",
              "          element.innerHTML = '';\n",
              "          dataTable['output_type'] = 'display_data';\n",
              "          await google.colab.output.renderOutput(dataTable, element);\n",
              "          const docLink = document.createElement('div');\n",
              "          docLink.innerHTML = docLinkHtml;\n",
              "          element.appendChild(docLink);\n",
              "        }\n",
              "      </script>\n",
              "    </div>\n",
              "  </div>\n",
              "  "
            ]
          },
          "metadata": {},
          "execution_count": 20
        }
      ],
      "source": [
        "sample.head()"
      ]
    },
    {
      "cell_type": "code",
      "execution_count": null,
      "metadata": {
        "id": "blqE1WJcwdM7"
      },
      "outputs": [],
      "source": [
        "X = sample.stemmed_text\n",
        "Y = sample.target\n",
        "\n",
        "X_train, X_test, Y_train, Y_test = train_test_split(X, Y, test_size=0.1, train_size=0.9, random_state=None, shuffle=True, stratify=Y)\n",
        "X_train, X_valid, Y_train, Y_valid = train_test_split(X_train, Y_train, test_size=0.1, train_size=0.9, random_state=None, shuffle=True, stratify=Y_train)"
      ]
    },
    {
      "cell_type": "code",
      "execution_count": null,
      "metadata": {
        "id": "-Mqas8XwxCXv"
      },
      "outputs": [],
      "source": [
        "sample_train = pd.DataFrame([X_train, Y_train]).T\n",
        "sample_valid = pd.DataFrame([X_valid, Y_valid]).T\n",
        "sample_test = pd.DataFrame([X_test, Y_test]).T"
      ]
    },
    {
      "cell_type": "code",
      "execution_count": null,
      "metadata": {
        "id": "BbtTqVqzrMVg"
      },
      "outputs": [],
      "source": [
        "sample_train[\"target\"] = pd.Categorical(sample_train[\"target\"])\n",
        "y_train_int = sample_train[\"target\"].cat.codes\n",
        "\n",
        "sample_valid[\"target\"] = pd.Categorical(sample_valid[\"target\"])\n",
        "y_valid_int = sample_valid['target'].cat.codes\n",
        "\n",
        "sample_test[\"target\"] = pd.Categorical(sample_test[\"target\"])\n",
        "y_test_int = sample_test['target'].cat.codes"
      ]
    },
    {
      "cell_type": "code",
      "execution_count": null,
      "metadata": {
        "id": "ormSoRn6uwsF"
      },
      "outputs": [],
      "source": [
        "y_train = to_categorical(y_train_int)\n",
        "y_valid = to_categorical(y_valid_int)\n",
        "y_test = to_categorical(y_test_int)"
      ]
    },
    {
      "cell_type": "markdown",
      "metadata": {
        "id": "9fVVle9krKKZ"
      },
      "source": [
        "Agora vamos para o bag of words"
      ]
    },
    {
      "cell_type": "code",
      "execution_count": null,
      "metadata": {
        "colab": {
          "base_uri": "https://localhost:8080/"
        },
        "id": "HtkM7-WmhGDv",
        "outputId": "c0484e6d-248d-4d5b-9b27-6186ab53a4b8"
      },
      "outputs": [
        {
          "output_type": "execute_result",
          "data": {
            "text/plain": [
              "CountVectorizer(max_df=0.95, min_df=2)"
            ]
          },
          "metadata": {},
          "execution_count": 25
        }
      ],
      "source": [
        "vectorizer = CountVectorizer(max_df=0.95,min_df=2)\n",
        "vectorizer.fit(sample_train.stemmed_text)"
      ]
    },
    {
      "cell_type": "code",
      "execution_count": null,
      "metadata": {
        "id": "CD8TcDhwi4L_"
      },
      "outputs": [],
      "source": [
        "bag_train = vectorizer.transform(sample_train.stemmed_text).toarray()\n",
        "bag_valid = vectorizer.transform(sample_valid.stemmed_text).toarray()\n",
        "bag_test = vectorizer.transform(sample_test.stemmed_text).toarray()"
      ]
    },
    {
      "cell_type": "markdown",
      "metadata": {
        "id": "lOQN3cMGp_eK"
      },
      "source": [
        "Hyperparâmetros da rede"
      ]
    },
    {
      "cell_type": "code",
      "source": [
        "number_of_neurons_layer1 = 4\n",
        "number_of_neurons_layer2 = 3 \n",
        "number_of_neurons_output = 2 \n",
        "lr = 0.012\n",
        "l2_lambda = 0.08"
      ],
      "metadata": {
        "id": "OumrPDth-qdP"
      },
      "execution_count": null,
      "outputs": []
    },
    {
      "cell_type": "code",
      "execution_count": null,
      "metadata": {
        "id": "uX7mak37p_eL"
      },
      "outputs": [],
      "source": [
        "model1 = Sequential()\n",
        "model1.add(Dense(number_of_neurons_layer1,activation='relu'))\n",
        "model1.add(Dense(number_of_neurons_layer2,activation='relu'))\n",
        "model1.add(Dense(number_of_neurons_output,activation='softmax', kernel_regularizer=L2(l2_lambda)))"
      ]
    },
    {
      "cell_type": "code",
      "execution_count": null,
      "metadata": {
        "colab": {
          "base_uri": "https://localhost:8080/"
        },
        "id": "720hbz83p_eM",
        "outputId": "33a8cc84-efb0-48be-94e9-7312dd1b0ce0"
      },
      "outputs": [
        {
          "output_type": "stream",
          "name": "stdout",
          "text": [
            "Model: \"sequential\"\n",
            "_________________________________________________________________\n",
            " Layer (type)                Output Shape              Param #   \n",
            "=================================================================\n",
            " dense (Dense)               (24300, 4)                30508     \n",
            "                                                                 \n",
            " dense_1 (Dense)             (24300, 3)                15        \n",
            "                                                                 \n",
            " dense_2 (Dense)             (24300, 2)                8         \n",
            "                                                                 \n",
            "=================================================================\n",
            "Total params: 30,531\n",
            "Trainable params: 30,531\n",
            "Non-trainable params: 0\n",
            "_________________________________________________________________\n"
          ]
        }
      ],
      "source": [
        "model1.build(input_shape=bag_train.shape)\n",
        "model1.summary()"
      ]
    },
    {
      "cell_type": "code",
      "execution_count": null,
      "metadata": {
        "id": "oDLsC_mlp_eM"
      },
      "outputs": [],
      "source": [
        "sgd = SGD(learning_rate=lr)\n",
        "model1.compile(optimizer=sgd,loss='categorical_crossentropy',metrics=['accuracy'])"
      ]
    },
    {
      "cell_type": "code",
      "execution_count": null,
      "metadata": {
        "colab": {
          "base_uri": "https://localhost:8080/"
        },
        "id": "9NvRGfnxp_eN",
        "outputId": "0c40d370-905d-4f14-8fea-624f5612bb87"
      },
      "outputs": [
        {
          "output_type": "stream",
          "name": "stdout",
          "text": [
            "Epoch 1/50\n",
            "760/760 [==============================] - 4s 5ms/step - loss: 0.7522 - accuracy: 0.5516 - val_loss: 0.7008 - val_accuracy: 0.5996\n",
            "Epoch 2/50\n",
            "760/760 [==============================] - 4s 5ms/step - loss: 0.6946 - accuracy: 0.6093 - val_loss: 0.6920 - val_accuracy: 0.6000\n",
            "Epoch 3/50\n",
            "760/760 [==============================] - 4s 5ms/step - loss: 0.6913 - accuracy: 0.6080 - val_loss: 0.6907 - val_accuracy: 0.6626\n",
            "Epoch 4/50\n",
            "760/760 [==============================] - 4s 5ms/step - loss: 0.6899 - accuracy: 0.6303 - val_loss: 0.6892 - val_accuracy: 0.6578\n",
            "Epoch 5/50\n",
            "760/760 [==============================] - 4s 5ms/step - loss: 0.6878 - accuracy: 0.6576 - val_loss: 0.6869 - val_accuracy: 0.6048\n",
            "Epoch 6/50\n",
            "760/760 [==============================] - 4s 5ms/step - loss: 0.6844 - accuracy: 0.6724 - val_loss: 0.6827 - val_accuracy: 0.6463\n",
            "Epoch 7/50\n",
            "760/760 [==============================] - 4s 5ms/step - loss: 0.6787 - accuracy: 0.6811 - val_loss: 0.6760 - val_accuracy: 0.6878\n",
            "Epoch 8/50\n",
            "760/760 [==============================] - 4s 5ms/step - loss: 0.6701 - accuracy: 0.6934 - val_loss: 0.6666 - val_accuracy: 0.6848\n",
            "Epoch 9/50\n",
            "760/760 [==============================] - 4s 5ms/step - loss: 0.6584 - accuracy: 0.7000 - val_loss: 0.6544 - val_accuracy: 0.6981\n",
            "Epoch 10/50\n",
            "760/760 [==============================] - 4s 5ms/step - loss: 0.6446 - accuracy: 0.7107 - val_loss: 0.6419 - val_accuracy: 0.7052\n",
            "Epoch 11/50\n",
            "760/760 [==============================] - 4s 5ms/step - loss: 0.6306 - accuracy: 0.7160 - val_loss: 0.6293 - val_accuracy: 0.7111\n",
            "Epoch 12/50\n",
            "760/760 [==============================] - 5s 6ms/step - loss: 0.6174 - accuracy: 0.7214 - val_loss: 0.6184 - val_accuracy: 0.7126\n",
            "Epoch 13/50\n",
            "760/760 [==============================] - 7s 10ms/step - loss: 0.6057 - accuracy: 0.7271 - val_loss: 0.6095 - val_accuracy: 0.7170\n",
            "Epoch 14/50\n",
            "760/760 [==============================] - 7s 9ms/step - loss: 0.5953 - accuracy: 0.7310 - val_loss: 0.6014 - val_accuracy: 0.7219\n",
            "Epoch 15/50\n",
            "760/760 [==============================] - 6s 9ms/step - loss: 0.5863 - accuracy: 0.7367 - val_loss: 0.5950 - val_accuracy: 0.7256\n",
            "Epoch 16/50\n",
            "760/760 [==============================] - 6s 8ms/step - loss: 0.5782 - accuracy: 0.7398 - val_loss: 0.5895 - val_accuracy: 0.7259\n",
            "Epoch 17/50\n",
            "760/760 [==============================] - 6s 8ms/step - loss: 0.5710 - accuracy: 0.7448 - val_loss: 0.5845 - val_accuracy: 0.7274\n",
            "Epoch 18/50\n",
            "760/760 [==============================] - 4s 5ms/step - loss: 0.5644 - accuracy: 0.7471 - val_loss: 0.5806 - val_accuracy: 0.7285\n",
            "Epoch 19/50\n",
            "760/760 [==============================] - 4s 5ms/step - loss: 0.5585 - accuracy: 0.7498 - val_loss: 0.5775 - val_accuracy: 0.7307\n",
            "Epoch 20/50\n",
            "760/760 [==============================] - 4s 5ms/step - loss: 0.5533 - accuracy: 0.7530 - val_loss: 0.5741 - val_accuracy: 0.7311\n",
            "Epoch 21/50\n",
            "760/760 [==============================] - 4s 5ms/step - loss: 0.5483 - accuracy: 0.7550 - val_loss: 0.5708 - val_accuracy: 0.7307\n",
            "Epoch 22/50\n",
            "760/760 [==============================] - 4s 5ms/step - loss: 0.5436 - accuracy: 0.7581 - val_loss: 0.5686 - val_accuracy: 0.7385\n",
            "Epoch 23/50\n",
            "760/760 [==============================] - 5s 6ms/step - loss: 0.5393 - accuracy: 0.7629 - val_loss: 0.5671 - val_accuracy: 0.7356\n",
            "Epoch 24/50\n",
            "760/760 [==============================] - 5s 7ms/step - loss: 0.5351 - accuracy: 0.7620 - val_loss: 0.5646 - val_accuracy: 0.7359\n",
            "Epoch 25/50\n",
            "760/760 [==============================] - 4s 5ms/step - loss: 0.5314 - accuracy: 0.7650 - val_loss: 0.5654 - val_accuracy: 0.7341\n",
            "Epoch 26/50\n",
            "760/760 [==============================] - 4s 5ms/step - loss: 0.5279 - accuracy: 0.7671 - val_loss: 0.5631 - val_accuracy: 0.7400\n",
            "Epoch 27/50\n",
            "760/760 [==============================] - 4s 5ms/step - loss: 0.5243 - accuracy: 0.7691 - val_loss: 0.5601 - val_accuracy: 0.7441\n",
            "Epoch 28/50\n",
            "760/760 [==============================] - 4s 5ms/step - loss: 0.5209 - accuracy: 0.7710 - val_loss: 0.5583 - val_accuracy: 0.7426\n",
            "Epoch 29/50\n",
            "760/760 [==============================] - 4s 5ms/step - loss: 0.5176 - accuracy: 0.7721 - val_loss: 0.5615 - val_accuracy: 0.7381\n",
            "Epoch 30/50\n",
            "760/760 [==============================] - 4s 5ms/step - loss: 0.5149 - accuracy: 0.7737 - val_loss: 0.5570 - val_accuracy: 0.7396\n",
            "Epoch 31/50\n",
            "760/760 [==============================] - 4s 5ms/step - loss: 0.5119 - accuracy: 0.7753 - val_loss: 0.5568 - val_accuracy: 0.7407\n",
            "Epoch 32/50\n",
            "760/760 [==============================] - 4s 5ms/step - loss: 0.5089 - accuracy: 0.7779 - val_loss: 0.5561 - val_accuracy: 0.7426\n",
            "Epoch 33/50\n",
            "760/760 [==============================] - 4s 5ms/step - loss: 0.5066 - accuracy: 0.7778 - val_loss: 0.5557 - val_accuracy: 0.7441\n",
            "Epoch 34/50\n",
            "760/760 [==============================] - 4s 5ms/step - loss: 0.5038 - accuracy: 0.7807 - val_loss: 0.5531 - val_accuracy: 0.7411\n",
            "Epoch 35/50\n",
            "760/760 [==============================] - 4s 5ms/step - loss: 0.5014 - accuracy: 0.7817 - val_loss: 0.5543 - val_accuracy: 0.7430\n",
            "Epoch 36/50\n",
            "760/760 [==============================] - 4s 5ms/step - loss: 0.4986 - accuracy: 0.7828 - val_loss: 0.5532 - val_accuracy: 0.7437\n",
            "Epoch 37/50\n",
            "760/760 [==============================] - 4s 5ms/step - loss: 0.4963 - accuracy: 0.7841 - val_loss: 0.5531 - val_accuracy: 0.7422\n",
            "Epoch 38/50\n",
            "760/760 [==============================] - 4s 5ms/step - loss: 0.4941 - accuracy: 0.7849 - val_loss: 0.5529 - val_accuracy: 0.7430\n",
            "Epoch 39/50\n",
            "760/760 [==============================] - 5s 6ms/step - loss: 0.4918 - accuracy: 0.7877 - val_loss: 0.5529 - val_accuracy: 0.7448\n",
            "Epoch 40/50\n",
            "760/760 [==============================] - 4s 5ms/step - loss: 0.4895 - accuracy: 0.7892 - val_loss: 0.5510 - val_accuracy: 0.7437\n",
            "Epoch 41/50\n",
            "760/760 [==============================] - 4s 5ms/step - loss: 0.4874 - accuracy: 0.7899 - val_loss: 0.5507 - val_accuracy: 0.7411\n",
            "Epoch 42/50\n",
            "760/760 [==============================] - 5s 7ms/step - loss: 0.4853 - accuracy: 0.7919 - val_loss: 0.5518 - val_accuracy: 0.7444\n",
            "Epoch 43/50\n",
            "760/760 [==============================] - 5s 6ms/step - loss: 0.4830 - accuracy: 0.7923 - val_loss: 0.5521 - val_accuracy: 0.7433\n",
            "Epoch 44/50\n",
            "760/760 [==============================] - 4s 5ms/step - loss: 0.4810 - accuracy: 0.7947 - val_loss: 0.5524 - val_accuracy: 0.7419\n",
            "Epoch 45/50\n",
            "760/760 [==============================] - 4s 5ms/step - loss: 0.4789 - accuracy: 0.7953 - val_loss: 0.5509 - val_accuracy: 0.7422\n",
            "Epoch 46/50\n",
            "760/760 [==============================] - 4s 5ms/step - loss: 0.4770 - accuracy: 0.7977 - val_loss: 0.5530 - val_accuracy: 0.7437\n",
            "Epoch 47/50\n",
            "760/760 [==============================] - 4s 5ms/step - loss: 0.4753 - accuracy: 0.7976 - val_loss: 0.5508 - val_accuracy: 0.7411\n",
            "Epoch 48/50\n",
            "760/760 [==============================] - 4s 5ms/step - loss: 0.4731 - accuracy: 0.7985 - val_loss: 0.5520 - val_accuracy: 0.7430\n",
            "Epoch 49/50\n",
            "760/760 [==============================] - 4s 5ms/step - loss: 0.4710 - accuracy: 0.7992 - val_loss: 0.5560 - val_accuracy: 0.7422\n",
            "Epoch 50/50\n",
            "760/760 [==============================] - 4s 5ms/step - loss: 0.4692 - accuracy: 0.8020 - val_loss: 0.5579 - val_accuracy: 0.7426\n"
          ]
        }
      ],
      "source": [
        "history1 = model1.fit(bag_train,y_train,validation_data=(bag_valid,y_valid),epochs=50)"
      ]
    },
    {
      "cell_type": "code",
      "execution_count": null,
      "metadata": {
        "colab": {
          "base_uri": "https://localhost:8080/",
          "height": 295
        },
        "id": "wzueOizlqfJJ",
        "outputId": "f6c76f1b-eaf3-4728-dc32-d8b768894421"
      },
      "outputs": [
        {
          "output_type": "display_data",
          "data": {
            "text/plain": [
              "<Figure size 432x288 with 1 Axes>"
            ],
            "image/png": "[encoded data removed]"
          },
          "metadata": {
            "needs_background": "light"
          }
        }
      ],
      "source": [
        "plt.plot(history1.history['loss'])\n",
        "plt.plot(history1.history['val_loss'])\n",
        "plt.title('Model loss')\n",
        "plt.ylabel('Loss')\n",
        "plt.xlabel('Epoch')\n",
        "plt.legend(['Train', 'Validation'], loc='upper left')\n",
        "plt.show()"
      ]
    },
    {
      "cell_type": "code",
      "execution_count": null,
      "metadata": {
        "id": "8XriqEEoo1L_",
        "colab": {
          "base_uri": "https://localhost:8080/",
          "height": 358
        },
        "outputId": "4a0c8735-12dc-4fca-a942-af9b422003e4"
      },
      "outputs": [
        {
          "output_type": "display_data",
          "data": {
            "text/plain": [
              "<Figure size 360x360 with 1 Axes>"
            ],
            "image/png": "[encoded data removed]"
          },
          "metadata": {
            "needs_background": "light"
          }
        }
      ],
      "source": [
        "y_pred = model1.predict(bag_test)\n",
        "y_pred = np.argmax(y_pred, axis=1)\n",
        "conf_matrix = confusion_matrix(np.argmax(y_test, axis=1), y_pred)\n",
        "fig, ax = plt.subplots(figsize=(5, 5))\n",
        "ax.matshow(conf_matrix, cmap=plt.cm.Oranges, alpha=0.3)\n",
        "for i in range(conf_matrix.shape[0]):\n",
        "    for j in range(conf_matrix.shape[1]):\n",
        "        ax.text(x=j, y=i,s=conf_matrix[i, j], va='center', ha='center', size='xx-large')\n",
        " \n",
        "plt.xlabel('Predictions', fontsize=18)\n",
        "plt.ylabel('Actuals', fontsize=18)\n",
        "plt.title('Confusion Matrix', fontsize=18)\n",
        "plt.show()"
      ]
    },
    {
      "cell_type": "code",
      "source": [
        "from sklearn.metrics import classification_report\n",
        "print(classification_report(np.argmax(y_test, axis=1), y_pred))"
      ],
      "metadata": {
        "colab": {
          "base_uri": "https://localhost:8080/"
        },
        "id": "-xHu3R3fHE5T",
        "outputId": "f9a606f9-18f5-4935-a6a5-8c4f5d460286"
      },
      "execution_count": null,
      "outputs": [
        {
          "output_type": "stream",
          "name": "stdout",
          "text": [
            "              precision    recall  f1-score   support\n",
            "\n",
            "           0       0.72      0.76      0.74      1500\n",
            "           1       0.75      0.71      0.73      1500\n",
            "\n",
            "    accuracy                           0.74      3000\n",
            "   macro avg       0.74      0.74      0.74      3000\n",
            "weighted avg       0.74      0.74      0.74      3000\n",
            "\n"
          ]
        }
      ]
    }
  ]
}